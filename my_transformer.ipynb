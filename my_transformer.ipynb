{
 "cells": [
  {
   "cell_type": "markdown",
   "metadata": {
    "id": "swymtxpl7W7w"
   },
   "source": [
    "## Setup"
   ]
  },
  {
   "cell_type": "markdown",
   "metadata": {
    "id": "0GYpLBSjxJmG"
   },
   "source": [
    "Import the necessary modules:"
   ]
  },
  {
   "cell_type": "code",
   "execution_count": 2,
   "metadata": {
    "execution": {
     "iopub.execute_input": "2022-12-14T12:27:51.417726Z",
     "iopub.status.busy": "2022-12-14T12:27:51.417012Z",
     "iopub.status.idle": "2022-12-14T12:27:54.278760Z",
     "shell.execute_reply": "2022-12-14T12:27:54.278044Z"
    },
    "id": "JjJJyJTZYebt"
   },
   "outputs": [
    {
     "name": "stderr",
     "output_type": "stream",
     "text": [
      "/Users/mstuffer/.pyenv/versions/3.9.15/envs/ai-industry/lib/python3.9/site-packages/tqdm/auto.py:22: TqdmWarning: IProgress not found. Please update jupyter and ipywidgets. See https://ipywidgets.readthedocs.io/en/stable/user_install.html\n",
      "  from .autonotebook import tqdm as notebook_tqdm\n",
      "2023-01-21 13:13:45.532333: I tensorflow/core/platform/cpu_feature_guard.cc:193] This TensorFlow binary is optimized with oneAPI Deep Neural Network Library (oneDNN) to use the following CPU instructions in performance-critical operations:  AVX2 FMA\n",
      "To enable them in other operations, rebuild TensorFlow with the appropriate compiler flags.\n"
     ]
    }
   ],
   "source": [
    "import logging\n",
    "import time\n",
    "\n",
    "import numpy as np\n",
    "import matplotlib.pyplot as plt\n",
    "\n",
    "import tensorflow_datasets as tfds\n",
    "import tensorflow as tf\n",
    "\n",
    "import tensorflow_text"
   ]
  },
  {
   "attachments": {},
   "cell_type": "markdown",
   "metadata": {
    "id": "-cCvXbPkccV1"
   },
   "source": [
    "### Load and reshape dataset"
   ]
  },
  {
   "cell_type": "code",
   "execution_count": 3,
   "metadata": {
    "execution": {
     "iopub.execute_input": "2022-12-14T12:27:54.283776Z",
     "iopub.status.busy": "2022-12-14T12:27:54.282912Z",
     "iopub.status.idle": "2022-12-14T12:27:58.433712Z",
     "shell.execute_reply": "2022-12-14T12:27:58.433005Z"
    },
    "id": "8q9t4FmN96eN"
   },
   "outputs": [
    {
     "name": "stdout",
     "output_type": "stream",
     "text": [
      "Load slice from file preprocessed_data_001.npy\n",
      "Load slice from file preprocessed_data_002.npy\n",
      "Load slice from file preprocessed_data_003.npy\n",
      "Load slice from file preprocessed_data_004.npy\n",
      "Load slice from file preprocessed_data_005.npy\n",
      "Load slice from file preprocessed_data_006.npy\n",
      "Load slice from file preprocessed_data_007.npy\n",
      "Load slice from file preprocessed_data_008.npy\n",
      "Load slice from file preprocessed_data_009.npy\n",
      "Loaded 9 files as slices, resulting shape: (4068, 48000)\n",
      "training shape: (2440, 48000, 1)\n"
     ]
    },
    {
     "name": "stderr",
     "output_type": "stream",
     "text": [
      "2023-01-21 13:13:54.894583: I tensorflow/core/platform/cpu_feature_guard.cc:193] This TensorFlow binary is optimized with oneAPI Deep Neural Network Library (oneDNN) to use the following CPU instructions in performance-critical operations:  AVX2 FMA\n",
      "To enable them in other operations, rebuild TensorFlow with the appropriate compiler flags.\n"
     ]
    }
   ],
   "source": [
    "from lib_util import utils\n",
    "from sklearn.model_selection import train_test_split\n",
    "\n",
    "config = utils.get_config('transformer_exp')\n",
    "\n",
    "melspec_data = utils.load_sliced_numpy_array('preprocessed_data')\n",
    "labels = np.load('data/labels.npy')\n",
    "\n",
    "labels_to_id = utils.get_class_mapping()\n",
    "\n",
    "mel_train, mel_test_val, lab_train, lab_test_val = train_test_split(melspec_data, labels, train_size=config['train_set_size'], random_state=config['random_state'])\n",
    "mel_val, mel_test, lab_val, lab_test             = train_test_split(mel_test_val, lab_test_val, test_size=(config['val_set_size']/(1-config['train_set_size'])), shuffle=False)\n",
    "\n",
    "# Check the shapes of the splitted sets\n",
    "assert mel_train.shape[0] == lab_train.shape[0] and mel_test.shape[0] == lab_test.shape[0] and mel_val.shape[0] == lab_val.shape[0]\n",
    "assert mel_train.shape[1] == mel_test.shape[1] == mel_val.shape[1] and lab_train.shape[1] == lab_test.shape[1] == lab_val.shape[1]\n",
    "\n",
    "# read in the config\n",
    "pp_config = utils.get_config('preprocess')\n",
    "\n",
    "def normalization(mel_train, mel_test, mel_val):\n",
    "    \"\"\"Normalize the data files by dividing every data point by the maximum of the train data set\n",
    "    \"\"\"\n",
    "    maximum = np.amax(mel_train)\n",
    "    mel_train = mel_train/maximum\n",
    "    mel_test = mel_test/maximum\n",
    "    mel_val = mel_val/maximum\n",
    "    return (mel_train.astype(np.float32), mel_test.astype(np.float32), mel_val.astype(np.float32))\n",
    "\n",
    "mel_train, mel_test, mel_val = normalization(mel_train, mel_test, mel_val)\n",
    "\n",
    "#n_mels = pp_config['melspectogram']['n_mels']\n",
    "mel_train = mel_train.reshape(mel_train.shape[0], 48000, -1)\n",
    "mel_val   = mel_val.reshape(mel_val.shape[0], 48000, -1)\n",
    "mel_test   = mel_test.reshape(mel_test.shape[0], 48000, -1)\n",
    "\n",
    "print(\"training shape:\", mel_train.shape)\n",
    "\n",
    "train_dataset = tf.data.Dataset.from_tensor_slices((mel_train, lab_train))\n",
    "val_dataset = tf.data.Dataset.from_tensor_slices((mel_val, lab_val))\n",
    "test_dataset = tf.data.Dataset.from_tensor_slices((mel_test, lab_test))"
   ]
  },
  {
   "cell_type": "markdown",
   "metadata": {
    "id": "ZA4cw7F_DmSt"
   },
   "source": [
    "The `tf.data.Dataset` object returned by TensorFlow Datasets yields pairs of text examples:"
   ]
  },
  {
   "cell_type": "markdown",
   "metadata": {
    "id": "-Yb35sTJcZq9"
   },
   "source": [
    "### Set up a data pipeline with `tf.data`"
   ]
  },
  {
   "cell_type": "markdown",
   "metadata": {
    "id": "dAroQ6xelzdx"
   },
   "source": [
    "The function below converts a dataset of text examples into data of batches for training. \n",
    "\n",
    "1. It tokenizes the text, and filters out the sequences that are too long.\n",
    "   (The `batch`/`unbatch` is included because the tokenizer is much more efficient on large batches).\n",
    "2. The `cache` method ensures that that work is only executed once.\n",
    "3. Then `shuffle` and, `dense_to_ragged_batch` randomize the order and assemble batches of examples. \n",
    "4. Finally `prefetch` runs the dataset in parallel with the model to ensure that data is available when needed. See [Better performance with the `tf.data`](https://www.tensorflow.org/guide/data_performance.ipynb) for details."
   ]
  },
  {
   "cell_type": "code",
   "execution_count": 4,
   "metadata": {
    "execution": {
     "iopub.execute_input": "2022-12-14T12:28:05.939745Z",
     "iopub.status.busy": "2022-12-14T12:28:05.939263Z",
     "iopub.status.idle": "2022-12-14T12:28:05.942224Z",
     "shell.execute_reply": "2022-12-14T12:28:05.941640Z"
    },
    "id": "bcRp7VcQ5m6g"
   },
   "outputs": [],
   "source": [
    "BUFFER_SIZE = 20000\n",
    "BATCH_SIZE = 256"
   ]
  },
  {
   "cell_type": "code",
   "execution_count": 5,
   "metadata": {
    "execution": {
     "iopub.execute_input": "2022-12-14T12:28:05.945408Z",
     "iopub.status.busy": "2022-12-14T12:28:05.944809Z",
     "iopub.status.idle": "2022-12-14T12:28:05.948377Z",
     "shell.execute_reply": "2022-12-14T12:28:05.947763Z"
    },
    "id": "BUN_jLBTwNxk"
   },
   "outputs": [],
   "source": [
    "def make_batches(ds):\n",
    "  return (\n",
    "      ds\n",
    "      .batch(BATCH_SIZE)\n",
    "      .prefetch(buffer_size=tf.data.AUTOTUNE))"
   ]
  },
  {
   "cell_type": "markdown",
   "metadata": {
    "id": "FX_h3tCnwgR4"
   },
   "source": [
    " </section>"
   ]
  },
  {
   "cell_type": "markdown",
   "metadata": {
    "id": "itSWqk-ivrRg"
   },
   "source": [
    "## Test the Dataset "
   ]
  },
  {
   "cell_type": "code",
   "execution_count": 6,
   "metadata": {
    "execution": {
     "iopub.execute_input": "2022-12-14T12:28:05.951801Z",
     "iopub.status.busy": "2022-12-14T12:28:05.951296Z",
     "iopub.status.idle": "2022-12-14T12:28:06.361255Z",
     "shell.execute_reply": "2022-12-14T12:28:06.360442Z"
    },
    "id": "BSswr5TKvoNM"
   },
   "outputs": [],
   "source": [
    "# Create training and validation set batches.\n",
    "train_batches = make_batches(train_dataset)\n",
    "val_batches = make_batches(val_dataset)\n",
    "test_batches = make_batches(test_dataset)"
   ]
  },
  {
   "cell_type": "markdown",
   "metadata": {
    "id": "PSufllC7wooA"
   },
   "source": [
    "The resulting `tf.data.Dataset` objects are setup for training with Keras.\n",
    "Keras `Model.fit` training expects `(inputs, labels)` pairs.\n",
    "The `inputs` are pairs of tokenized Portuguese and English sequences, `(pt, en)`.\n",
    "The `labels` are the same English sequences shifted by 1.\n",
    "This shift is so that at each location input `en` sequence, the `label` in the next token.\n"
   ]
  },
  {
   "cell_type": "markdown",
   "metadata": {
    "id": "tsF751JJdJt"
   },
   "source": [
    "This is the same as the [text generation tutorial](text_generation.ipynb),\n",
    "except here you have additional input \"context\" (the Portuguese sequence) that the model is \"conditioned\" on.\n",
    "\n",
    "This setup is called \"teacher forcing\" because regardless of the model's output at each timestep, it gets the true value as input for the next timestep.\n",
    "This is a simple and efficient way to train a text generation model.\n",
    "It's efficient because you don't need to run the model sequentially, the outputs at the different sequence locations can be computed in parallel.\n",
    "\n",
    "You might have expected the `input, output`, pairs to simply be the `Protugese, English` sequences.\n",
    "Given the Portuguese sequence, the model would try to generate the English sequence.\n",
    "\n",
    "It's possible to train a model that way. You'd need to write out the inference loop and pass the model's output back to the input.\n",
    "It's slower (time steps can't run in parallel), and a harder task to learn (the model can't get the end of a sentence right until it gets the beginning right),\n",
    "but it can give a more stable model because the model has to learn to correct its own errors during training."
   ]
  },
  {
   "cell_type": "markdown",
   "metadata": {
    "id": "7e7hKcxn6-zd"
   },
   "source": [
    "## Define the components"
   ]
  },
  {
   "cell_type": "code",
   "execution_count": 8,
   "metadata": {},
   "outputs": [
    {
     "name": "stdout",
     "output_type": "stream",
     "text": [
      "(256, 445, 256)\n"
     ]
    }
   ],
   "source": [
    "class FeatureExtractor:\n",
    "    def __init__(self) -> None:\n",
    "        self.conv_layers = [\n",
    "            tf.keras.layers.Conv1D(8, 8, 3, padding='same', activation='gelu', data_format='channels_last'),\n",
    "            tf.keras.layers.Conv1D(16, 4, 3, padding='same', activation='gelu', data_format='channels_last'),\n",
    "            tf.keras.layers.Conv1D(64, 4, 3, padding='same', activation='gelu', data_format='channels_last'),\n",
    "            tf.keras.layers.Conv1D(128, 3, 2, padding='same', activation='gelu', data_format='channels_last'),\n",
    "            tf.keras.layers.Conv1D(256, 3, 2, padding='same', activation='gelu', data_format='channels_last')\n",
    "        ]\n",
    "\n",
    "        self.max_pooling = tf.keras.layers.MaxPool2D((2, 2))\n",
    "\n",
    "        self.normalization = tf.keras.layers.LayerNormalization()\n",
    "\n",
    "    def __call__(self, x):\n",
    "        for convolution in self.conv_layers:\n",
    "            x = convolution(x)\n",
    "\n",
    "        return self.normalization(x)\n",
    "\n",
    "\n",
    "feature_extractor = FeatureExtractor()\n",
    "for e in train_batches.as_numpy_iterator():\n",
    "  x = e\n",
    "  break\n",
    "\n",
    "x = feature_extractor(x[0])\n",
    "\n",
    "print(x.shape)"
   ]
  },
  {
   "cell_type": "code",
   "execution_count": 9,
   "metadata": {
    "execution": {
     "iopub.execute_input": "2022-12-14T12:28:07.548099Z",
     "iopub.status.busy": "2022-12-14T12:28:07.547546Z",
     "iopub.status.idle": "2022-12-14T12:28:07.552948Z",
     "shell.execute_reply": "2022-12-14T12:28:07.552094Z"
    },
    "id": "1Rz82wEs5biZ"
   },
   "outputs": [],
   "source": [
    "def positional_encoding(length, depth):\n",
    "  depth = depth/2\n",
    "\n",
    "  positions = np.arange(length)[:, np.newaxis]     # (seq, 1)\n",
    "  depths = np.arange(depth)[np.newaxis, :]/depth   # (1, depth)\n",
    "  \n",
    "  angle_rates = 1 / (10000**depths)         # (1, depth)\n",
    "  angle_rads = positions * angle_rates      # (pos, depth)\n",
    "\n",
    "  pos_encoding = np.concatenate(\n",
    "      [np.sin(angle_rads), np.cos(angle_rads)],\n",
    "      axis=-1) \n",
    "\n",
    "  return tf.cast(pos_encoding, dtype=tf.float32)\n",
    "\n",
    "\n",
    "class PositionalEmbedding(tf.keras.layers.Layer):\n",
    "  def __init__(self, d_model):\n",
    "    super().__init__()\n",
    "    self.d_model = d_model\n",
    "    self.pos_encoding = positional_encoding(length=2048, depth=d_model)\n",
    "\n",
    "  def call(self, x):\n",
    "    length = tf.shape(x)[1]\n",
    "    # This factor sets the relative scale of the embedding and positonal_encoding.\n",
    "    x *= tf.math.sqrt(tf.cast(self.d_model, tf.float32))\n",
    "    x = x + self.pos_encoding[tf.newaxis, :length, :]\n",
    "    return x\n",
    "\n",
    "\n",
    "class BaseAttention(tf.keras.layers.Layer):\n",
    "  def __init__(self, **kwargs):\n",
    "    super().__init__()\n",
    "    self.mha = tf.keras.layers.MultiHeadAttention(**kwargs)\n",
    "    self.layernorm = tf.keras.layers.LayerNormalization()\n",
    "    self.add = tf.keras.layers.Add()\n",
    "\n",
    "\n",
    "class CrossAttention(BaseAttention):\n",
    "  def call(self, x, context):\n",
    "    attn_output, attn_scores = self.mha(\n",
    "        query=x,\n",
    "        key=context,\n",
    "        value=context,\n",
    "        return_attention_scores=True)\n",
    "   \n",
    "    # Cache the attention scores for plotting later.\n",
    "    self.last_attn_scores = attn_scores\n",
    "\n",
    "    x = self.add([x, attn_output])\n",
    "    x = self.layernorm(x)\n",
    "\n",
    "    return x\n",
    "\n",
    "\n",
    "class GlobalSelfAttention(BaseAttention):\n",
    "  def call(self, x):\n",
    "    attn_output = self.mha(\n",
    "        query=x,\n",
    "        value=x,\n",
    "        key=x)\n",
    "    x = self.add([x, attn_output])\n",
    "    x = self.layernorm(x)\n",
    "    return x\n",
    "\n",
    "class CausalSelfAttention(BaseAttention):\n",
    "  def call(self, x):\n",
    "    attn_output = self.mha(\n",
    "        query=x,\n",
    "        value=x,\n",
    "        key=x,\n",
    "        use_causal_mask = True)\n",
    "    x = self.add([x, attn_output])\n",
    "    x = self.layernorm(x)\n",
    "    return x\n",
    "\n",
    "class FeedForward(tf.keras.layers.Layer):\n",
    "  def __init__(self, d_model, dff, dropout_rate=0.1):\n",
    "    super().__init__()\n",
    "    self.seq = tf.keras.Sequential([\n",
    "      tf.keras.layers.Dense(dff, activation='relu'),\n",
    "      tf.keras.layers.Dense(d_model),\n",
    "      tf.keras.layers.Dropout(dropout_rate)\n",
    "    ])\n",
    "    self.add = tf.keras.layers.Add()\n",
    "    self.layer_norm = tf.keras.layers.LayerNormalization()\n",
    "\n",
    "  def call(self, x):\n",
    "    x = self.add([x, self.seq(x)])\n",
    "    x = self.layer_norm(x) \n",
    "    return x\n",
    "\n",
    "class EncoderLayer(tf.keras.layers.Layer):\n",
    "  def __init__(self,*, d_model, num_heads, dff, dropout_rate=0.1):\n",
    "    super().__init__()\n",
    "\n",
    "    self.self_attention = GlobalSelfAttention(\n",
    "        num_heads=num_heads,\n",
    "        key_dim=d_model,\n",
    "        dropout=dropout_rate)\n",
    "\n",
    "    self.ffn = FeedForward(d_model, dff)\n",
    "\n",
    "  def call(self, x):\n",
    "    x = self.self_attention(x)\n",
    "    x = self.ffn(x)\n",
    "    return x\n",
    "\n",
    "\n",
    "class Encoder(tf.keras.layers.Layer):\n",
    "  def __init__(self, *, num_layers, d_model, num_heads,\n",
    "               dff, dropout_rate=0.1):\n",
    "    super().__init__()\n",
    "\n",
    "    self.d_model = d_model\n",
    "    self.num_layers = num_layers\n",
    "    self.pos_embedding = PositionalEmbedding(d_model=d_model)\n",
    "    self.enc_layers = [\n",
    "        EncoderLayer(d_model=d_model,\n",
    "                     num_heads=num_heads,\n",
    "                     dff=dff,\n",
    "                     dropout_rate=dropout_rate)\n",
    "        for _ in range(num_layers)]\n",
    "    \n",
    "    self.dropout = tf.keras.layers.Dropout(dropout_rate)\n",
    "\n",
    "  def call(self, x):\n",
    "    # `x` is token-IDs shape: (batch, seq_len)\n",
    "    x = self.pos_embedding(x)  # Shape `(batch_size, seq_len, d_model)`.\n",
    "    \n",
    "    x = self.dropout(x)\n",
    "\n",
    "    for i in range(self.num_layers):\n",
    "      x = self.enc_layers[i](x)\n",
    "\n",
    "    return x  # Shape `(batch_size, seq_len, d_model)`.\n",
    "\n",
    "\n",
    "class Transformer(tf.keras.Model):\n",
    "  def __init__(self, *, num_layers, d_model, num_heads, dff, n_labels,\n",
    "               dropout_rate=0.1):\n",
    "    super().__init__()\n",
    "\n",
    "    self.input_layer = tf.keras.layers.InputLayer((48000, 1))\n",
    "\n",
    "    self.feature_extractor = FeatureExtractor()\n",
    "\n",
    "    self.encoder = Encoder(num_layers=num_layers, d_model=d_model,\n",
    "                           num_heads=num_heads, dff=dff,\n",
    "                           dropout_rate=dropout_rate)\n",
    "\n",
    "    self.dropout_layer = tf.keras.layers.Dropout(dropout_rate)\n",
    "    self.pooling_layer = tf.keras.layers.GlobalAvgPool1D()\n",
    "    self.dense_layer = tf.keras.layers.Dense(4 * n_labels, 'selu')\n",
    "    self.final_layer = tf.keras.layers.Dense(n_labels, activation='sigmoid')\n",
    "\n",
    "  def call(self, inputs):\n",
    "    # To use a Keras model with `.fit` you must pass all your inputs in the\n",
    "    # first argument.\n",
    "\n",
    "    x = self.input_layer(inputs)\n",
    "\n",
    "    x = self.feature_extractor(x)\n",
    "\n",
    "    x = self.encoder(x)  # (batch_size, x_len, d_model)\n",
    "\n",
    "    x = self.dropout_layer(x)\n",
    "\n",
    "    x = self.pooling_layer(x)\n",
    "\n",
    "    x = self.dense_layer(x)\n",
    "\n",
    "    # Final linear layer output.\n",
    "    out = self.final_layer(x)  # (batch_size, target_len, target_vocab_size)\n",
    "\n",
    "    return out"
   ]
  },
  {
   "cell_type": "code",
   "execution_count": 10,
   "metadata": {
    "execution": {
     "iopub.execute_input": "2022-12-14T12:28:10.758345Z",
     "iopub.status.busy": "2022-12-14T12:28:10.757688Z",
     "iopub.status.idle": "2022-12-14T12:28:10.761129Z",
     "shell.execute_reply": "2022-12-14T12:28:10.760529Z"
    },
    "id": "mzyo6KDfVyhl"
   },
   "outputs": [],
   "source": [
    "num_layers = 8\n",
    "d_model = 256\n",
    "dff = 256\n",
    "num_heads = 8\n",
    "dropout_rate = 0.15"
   ]
  },
  {
   "cell_type": "markdown",
   "metadata": {
    "id": "g08YOE-zHRqY"
   },
   "source": [
    "### Try it out"
   ]
  },
  {
   "cell_type": "markdown",
   "metadata": {
    "id": "yYbXDEhhlzd6"
   },
   "source": [
    "Instantiate the `Transformer` model:"
   ]
  },
  {
   "cell_type": "code",
   "execution_count": 11,
   "metadata": {
    "execution": {
     "iopub.execute_input": "2022-12-14T12:28:10.764657Z",
     "iopub.status.busy": "2022-12-14T12:28:10.764077Z",
     "iopub.status.idle": "2022-12-14T12:28:11.032941Z",
     "shell.execute_reply": "2022-12-14T12:28:11.032121Z"
    },
    "id": "UiysUa--4tOU"
   },
   "outputs": [],
   "source": [
    "transformer = Transformer(\n",
    "    num_layers=num_layers,\n",
    "    d_model=d_model,\n",
    "    num_heads=num_heads,\n",
    "    dff=dff,\n",
    "    dropout_rate=dropout_rate,\n",
    "    n_labels=lab_train.shape[1])"
   ]
  },
  {
   "cell_type": "markdown",
   "metadata": {
    "id": "EfoBfC2oQtEy"
   },
   "source": [
    "## Training\n",
    "\n",
    "It's time to prepare the model and start training it."
   ]
  },
  {
   "cell_type": "code",
   "execution_count": 12,
   "metadata": {
    "execution": {
     "iopub.execute_input": "2022-12-14T12:28:11.635883Z",
     "iopub.status.busy": "2022-12-14T12:28:11.635060Z",
     "iopub.status.idle": "2022-12-14T12:28:11.640860Z",
     "shell.execute_reply": "2022-12-14T12:28:11.640130Z"
    },
    "id": "iYQdOO1axwEI"
   },
   "outputs": [],
   "source": [
    "class CustomSchedule(tf.keras.optimizers.schedules.LearningRateSchedule):\n",
    "  def __init__(self, d_model, warmup_steps=4000):\n",
    "    super().__init__()\n",
    "\n",
    "    self.d_model = d_model\n",
    "    self.d_model = tf.cast(self.d_model, tf.float32)\n",
    "\n",
    "    self.warmup_steps = warmup_steps\n",
    "\n",
    "  def __call__(self, step):\n",
    "    step = tf.cast(step, dtype=tf.float32)\n",
    "    arg1 = tf.math.rsqrt(step)\n",
    "    arg2 = step * (self.warmup_steps ** -1.5)\n",
    "\n",
    "    return tf.math.rsqrt(self.d_model) * tf.math.minimum(arg1, arg2)\n",
    "\n",
    "learning_rate = CustomSchedule(d_model)\n",
    "\n",
    "optimizer = tf.keras.optimizers.Adam(learning_rate, beta_1=0.9, beta_2=0.98,\n",
    "                                     epsilon=1e-9)"
   ]
  },
  {
   "cell_type": "code",
   "execution_count": 13,
   "metadata": {
    "execution": {
     "iopub.execute_input": "2022-12-14T12:28:11.844294Z",
     "iopub.status.busy": "2022-12-14T12:28:11.843725Z",
     "iopub.status.idle": "2022-12-14T13:16:07.734882Z",
     "shell.execute_reply": "2022-12-14T13:16:07.733975Z"
    },
    "id": "Jg35qKvVlctp"
   },
   "outputs": [
    {
     "name": "stdout",
     "output_type": "stream",
     "text": [
      "Epoch 1/20\n"
     ]
    },
    {
     "ename": "",
     "evalue": "",
     "output_type": "error",
     "traceback": [
      "\u001b[1;31mCanceled future for execute_request message before replies were done"
     ]
    },
    {
     "ename": "",
     "evalue": "",
     "output_type": "error",
     "traceback": [
      "\u001b[1;31mThe Kernel crashed while executing code in the the current cell or a previous cell. Please review the code in the cell(s) to identify a possible cause of the failure. Click <a href='https://aka.ms/vscodeJupyterKernelCrash'>here</a> for more info. View Jupyter <a href='command:jupyter.viewOutput'>log</a> for further details."
     ]
    }
   ],
   "source": [
    "transformer.compile(\n",
    "    loss=tf.keras.losses.CategoricalCrossentropy(),\n",
    "    optimizer=optimizer,\n",
    "    metrics=[tf.keras.metrics.CategoricalAccuracy()])\n",
    "\n",
    "es = tf.keras.callbacks.EarlyStopping(\n",
    "    monitor = 'val_loss',\n",
    "    patience = 5,\n",
    "    start_from_epoch=3,\n",
    "    restore_best_weights=True)\n",
    "\n",
    "cp = tf.keras.callbacks.ModelCheckpoint(\n",
    "    filepath='models/my_transformer',\n",
    "    save_weights_only=True,\n",
    "    monitor='val_loss',\n",
    "    model='min',\n",
    "    save_best_only=True\n",
    ")\n",
    "\n",
    "hist = transformer.fit(train_batches,\n",
    "                epochs=20,\n",
    "                callbacks=[es, cp],\n",
    "                validation_data=val_batches)"
   ]
  },
  {
   "cell_type": "code",
   "execution_count": null,
   "metadata": {},
   "outputs": [],
   "source": [
    "import json\n",
    "transformer.save_weights('models/my_transformer/')\n",
    "\n",
    "with open('models/my_transformer/my_transformer_history.json', 'w') as f:\n",
    "    f.write(json.dumps(hist.history, indent=4))\n"
   ]
  },
  {
   "cell_type": "code",
   "execution_count": null,
   "metadata": {},
   "outputs": [
    {
     "name": "stdout",
     "output_type": "stream",
     "text": [
      "available keys dict_keys(['loss', 'categorical_accuracy', 'val_loss', 'val_categorical_accuracy'])\n"
     ]
    },
    {
     "data": {
      "image/png": "[encoded data removed]",
      "text/plain": [
       "<Figure size 640x480 with 1 Axes>"
      ]
     },
     "metadata": {},
     "output_type": "display_data"
    },
    {
     "data": {
      "image/png": "[encoded data removed]",
      "text/plain": [
       "<Figure size 640x480 with 1 Axes>"
      ]
     },
     "metadata": {},
     "output_type": "display_data"
    }
   ],
   "source": [
    "from lib_util import plot\n",
    "epochs= 20\n",
    "with open('models/my_transformer/my_transformer_history.json', 'r') as f:\n",
    "    history_dict = json.load(f)\n",
    "\n",
    "#Plots for the accuracies and losses of the train and validation data per epoch\n",
    "plot.plot_hist(history_dict, ('categorical_accuracy', 'val_categorical_accuracy'), legends=('train', 'validation'), title='Accuracy', y_label='accuracy ->', x_label='epochs ->', save_to=f'Plots/{config['name']}_{epochs}_acuracy')\n",
    "plot.plot_hist(history_dict, ('loss', 'val_loss'), legends=('train', 'validation'), title='Loss', y_label='loss ->', x_label='epochs ->', save_to=f'Plots/{config['name']}_{epochs}_loss')"
   ]
  },
  {
   "cell_type": "code",
   "execution_count": null,
   "metadata": {},
   "outputs": [],
   "source": [
    "from sklearn.metrics import confusion_matrix\n",
    "from pandas import DataFrame\n",
    "from lib_util import plot\n",
    "\n",
    "# Test prediction\n",
    "scores = transformer.evaluate(mel_test, lab_test)\n",
    "\n",
    "y_pred = transformer.predict(mel_test)\n",
    "\n",
    "epochs = 20\n",
    "\n",
    "y_pred = np.argmax(y_pred, axis=1)\n",
    "\n",
    "print(np.sum(y_pred==np.argmax(lab_test, axis=1))/y_pred.shape[0])\n",
    "\n",
    "print(np.unique(y_pred))\n",
    "\n",
    "class_names = utils.get_class_names()\n",
    "\n",
    "#Confusion matrix of the predicted labels versus the true labels\n",
    "conf_mat = confusion_matrix(lab_test, y_pred, normalize= 'true')\n",
    "conf_mat = np.round(conf_mat, 2)\n",
    "\n",
    "conf_mat_df = DataFrame(conf_mat, columns=class_names, index=class_names)\n",
    "\n",
    "plot.plot_conf_mat(conf_mat_df, save_to=f\"Plots/{config['name']}_{epochs}_test_conf_mat.png\", name=config['name'], set_type='test')"
   ]
  }
 ],
 "metadata": {
  "colab": {
   "collapsed_sections": [],
   "last_runtime": {
    "build_target": "//learning/deepmind/public/tools/ml_python:ml_notebook",
    "kind": "private"
   },
   "private_outputs": true,
   "provenance": []
  },
  "kernelspec": {
   "display_name": "ai-industry",
   "language": "python",
   "name": "python3"
  },
  "language_info": {
   "codemirror_mode": {
    "name": "ipython",
    "version": 3
   },
   "file_extension": ".py",
   "mimetype": "text/x-python",
   "name": "python",
   "nbconvert_exporter": "python",
   "pygments_lexer": "ipython3",
   "version": "3.9.15"
  },
  "vscode": {
   "interpreter": {
    "hash": "ca8db3ad7877ac29be891f762e2f8f2bd0b14f50820e5ea7ad73e7636a7ffe5d"
   }
  }
 },
 "nbformat": 4,
 "nbformat_minor": 0
}
