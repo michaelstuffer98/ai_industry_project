{
 "cells": [
  {
   "cell_type": "markdown",
   "metadata": {
    "id": "swymtxpl7W7w"
   },
   "source": [
    "## Setup"
   ]
  },
  {
   "cell_type": "markdown",
   "metadata": {
    "id": "OfV1batAwq9j"
   },
   "source": [
    "Begin by installing [TensorFlow Datasets](https://tensorflow.org/datasets) for loading the dataset and [TensorFlow Text](https://www.tensorflow.org/text) for text preprocessing:"
   ]
  },
  {
   "cell_type": "markdown",
   "metadata": {
    "id": "0GYpLBSjxJmG"
   },
   "source": [
    "Import the necessary modules:"
   ]
  },
  {
   "cell_type": "code",
   "execution_count": 1,
   "metadata": {
    "execution": {
     "iopub.execute_input": "2022-12-14T12:27:51.417726Z",
     "iopub.status.busy": "2022-12-14T12:27:51.417012Z",
     "iopub.status.idle": "2022-12-14T12:27:54.278760Z",
     "shell.execute_reply": "2022-12-14T12:27:54.278044Z"
    },
    "id": "JjJJyJTZYebt"
   },
   "outputs": [
    {
     "name": "stderr",
     "output_type": "stream",
     "text": [
      "/Users/mstuffer/.pyenv/versions/3.9.15/envs/ai-industry/lib/python3.9/site-packages/tqdm/auto.py:22: TqdmWarning: IProgress not found. Please update jupyter and ipywidgets. See https://ipywidgets.readthedocs.io/en/stable/user_install.html\n",
      "  from .autonotebook import tqdm as notebook_tqdm\n",
      "2023-01-17 13:04:32.212962: I tensorflow/core/platform/cpu_feature_guard.cc:193] This TensorFlow binary is optimized with oneAPI Deep Neural Network Library (oneDNN) to use the following CPU instructions in performance-critical operations:  AVX2 FMA\n",
      "To enable them in other operations, rebuild TensorFlow with the appropriate compiler flags.\n"
     ]
    }
   ],
   "source": [
    "import logging\n",
    "import time\n",
    "\n",
    "import numpy as np\n",
    "import matplotlib.pyplot as plt\n",
    "\n",
    "import tensorflow_datasets as tfds\n",
    "import tensorflow as tf\n",
    "\n",
    "import tensorflow_text"
   ]
  },
  {
   "cell_type": "markdown",
   "metadata": {
    "id": "Xf_WUi2HLhzf"
   },
   "source": [
    "## Data handling\n",
    "\n",
    "This section downloads the dataset and the subword tokenizer, from [this tutorial](https://www.tensorflow.org/text/guide/subwords_tokenizer), then wraps it all up in a `tf.data.Dataset` for training.\n",
    "\n",
    " <section class=\"expandable tfo-display-only-on-site\">\n",
    " <button type=\"button\" class=\"button-red button expand-control\">Toggle section</button>\n"
   ]
  },
  {
   "cell_type": "markdown",
   "metadata": {
    "id": "-cCvXbPkccV1"
   },
   "source": [
    "### Download the dataset"
   ]
  },
  {
   "cell_type": "code",
   "execution_count": 2,
   "metadata": {
    "execution": {
     "iopub.execute_input": "2022-12-14T12:27:54.283776Z",
     "iopub.status.busy": "2022-12-14T12:27:54.282912Z",
     "iopub.status.idle": "2022-12-14T12:27:58.433712Z",
     "shell.execute_reply": "2022-12-14T12:27:58.433005Z"
    },
    "id": "8q9t4FmN96eN"
   },
   "outputs": [
    {
     "name": "stdout",
     "output_type": "stream",
     "text": [
      "Load slice from file melspec_features_001.npy\n",
      "Load slice from file melspec_features_002.npy\n",
      "Load slice from file melspec_features_003.npy\n",
      "Load slice from file melspec_features_004.npy\n",
      "Load slice from file melspec_features_005.npy\n",
      "Load slice from file melspec_features_006.npy\n",
      "Load slice from file melspec_features_007.npy\n",
      "Load slice from file melspec_features_008.npy\n",
      "Load slice from file melspec_features_009.npy\n",
      "Load slice from file melspec_features_010.npy\n",
      "Load slice from file melspec_features_011.npy\n",
      "Load slice from file melspec_features_012.npy\n",
      "Loaded 12 files as slices, resulting shape: (4068, 33152)\n"
     ]
    },
    {
     "name": "stderr",
     "output_type": "stream",
     "text": [
      "2023-01-17 13:04:42.752153: I tensorflow/core/platform/cpu_feature_guard.cc:193] This TensorFlow binary is optimized with oneAPI Deep Neural Network Library (oneDNN) to use the following CPU instructions in performance-critical operations:  AVX2 FMA\n",
      "To enable them in other operations, rebuild TensorFlow with the appropriate compiler flags.\n"
     ]
    }
   ],
   "source": [
    "from lib_util import utils\n",
    "from sklearn.model_selection import train_test_split\n",
    "\n",
    "config = utils.get_config('transformer_exp')\n",
    "\n",
    "melspec_data = utils.load_sliced_numpy_array('melspec_features')\n",
    "labels = np.load('data/labels.npy')\n",
    "\n",
    "labels_to_id = utils.get_class_mapping()\n",
    "\n",
    "mel_train, mel_test_val, lab_train, lab_test_val = train_test_split(melspec_data, labels, train_size=config['train_set_size'], random_state=config['random_state'])\n",
    "mel_val, mel_test, lab_val, lab_test             = train_test_split(mel_test_val, lab_test_val, test_size=(config['val_set_size']/(1-config['train_set_size'])), shuffle=False)\n",
    "\n",
    "# Check the shapes of the splitted sets\n",
    "assert mel_train.shape[0] == lab_train.shape[0] and mel_test.shape[0] == lab_test.shape[0] and mel_val.shape[0] == lab_val.shape[0]\n",
    "assert mel_train.shape[1] == mel_test.shape[1] == mel_val.shape[1] and lab_train.shape[1] == lab_test.shape[1] == lab_val.shape[1]\n",
    "\n",
    "# read in the config\n",
    "pp_config = utils.get_config('preprocess')\n",
    "\n",
    "n_mels = pp_config['melspectogram']['n_mels']\n",
    "mel_train = mel_train.reshape(mel_train.shape[0], -1, n_mels)\n",
    "mel_val   = mel_val.reshape(mel_val.shape[0], -1, n_mels)\n",
    "mel_test   = mel_test.reshape(mel_test.shape[0], -1, n_mels)\n",
    "\n",
    "train_dataset = tf.data.Dataset.from_tensor_slices((mel_train, lab_train))\n",
    "val_dataset = tf.data.Dataset.from_tensor_slices((mel_val, lab_val))\n",
    "test_dataset = tf.data.Dataset.from_tensor_slices((mel_test, lab_test))"
   ]
  },
  {
   "cell_type": "markdown",
   "metadata": {
    "id": "ZA4cw7F_DmSt"
   },
   "source": [
    "The `tf.data.Dataset` object returned by TensorFlow Datasets yields pairs of text examples:"
   ]
  },
  {
   "cell_type": "markdown",
   "metadata": {
    "id": "-Yb35sTJcZq9"
   },
   "source": [
    "### Set up a data pipeline with `tf.data`"
   ]
  },
  {
   "cell_type": "markdown",
   "metadata": {
    "id": "dAroQ6xelzdx"
   },
   "source": [
    "The function below converts a dataset of text examples into data of batches for training. \n",
    "\n",
    "1. It tokenizes the text, and filters out the sequences that are too long.\n",
    "   (The `batch`/`unbatch` is included because the tokenizer is much more efficient on large batches).\n",
    "2. The `cache` method ensures that that work is only executed once.\n",
    "3. Then `shuffle` and, `dense_to_ragged_batch` randomize the order and assemble batches of examples. \n",
    "4. Finally `prefetch` runs the dataset in parallel with the model to ensure that data is available when needed. See [Better performance with the `tf.data`](https://www.tensorflow.org/guide/data_performance.ipynb) for details."
   ]
  },
  {
   "cell_type": "code",
   "execution_count": 3,
   "metadata": {
    "execution": {
     "iopub.execute_input": "2022-12-14T12:28:05.939745Z",
     "iopub.status.busy": "2022-12-14T12:28:05.939263Z",
     "iopub.status.idle": "2022-12-14T12:28:05.942224Z",
     "shell.execute_reply": "2022-12-14T12:28:05.941640Z"
    },
    "id": "bcRp7VcQ5m6g"
   },
   "outputs": [],
   "source": [
    "BUFFER_SIZE = 20000\n",
    "BATCH_SIZE = 128"
   ]
  },
  {
   "cell_type": "code",
   "execution_count": 4,
   "metadata": {
    "execution": {
     "iopub.execute_input": "2022-12-14T12:28:05.945408Z",
     "iopub.status.busy": "2022-12-14T12:28:05.944809Z",
     "iopub.status.idle": "2022-12-14T12:28:05.948377Z",
     "shell.execute_reply": "2022-12-14T12:28:05.947763Z"
    },
    "id": "BUN_jLBTwNxk"
   },
   "outputs": [],
   "source": [
    "def make_batches(ds):\n",
    "  return (\n",
    "      ds\n",
    "      .batch(BATCH_SIZE)\n",
    "      .prefetch(buffer_size=tf.data.AUTOTUNE))"
   ]
  },
  {
   "cell_type": "markdown",
   "metadata": {
    "id": "FX_h3tCnwgR4"
   },
   "source": [
    " </section>"
   ]
  },
  {
   "cell_type": "markdown",
   "metadata": {
    "id": "itSWqk-ivrRg"
   },
   "source": [
    "## Test the Dataset "
   ]
  },
  {
   "cell_type": "code",
   "execution_count": 5,
   "metadata": {
    "execution": {
     "iopub.execute_input": "2022-12-14T12:28:05.951801Z",
     "iopub.status.busy": "2022-12-14T12:28:05.951296Z",
     "iopub.status.idle": "2022-12-14T12:28:06.361255Z",
     "shell.execute_reply": "2022-12-14T12:28:06.360442Z"
    },
    "id": "BSswr5TKvoNM"
   },
   "outputs": [],
   "source": [
    "# Create training and validation set batches.\n",
    "train_batches = make_batches(train_dataset)\n",
    "val_batches = make_batches(val_dataset)\n",
    "test_batches = make_batches(test_dataset)"
   ]
  },
  {
   "cell_type": "markdown",
   "metadata": {
    "id": "PSufllC7wooA"
   },
   "source": [
    "The resulting `tf.data.Dataset` objects are setup for training with Keras.\n",
    "Keras `Model.fit` training expects `(inputs, labels)` pairs.\n",
    "The `inputs` are pairs of tokenized Portuguese and English sequences, `(pt, en)`.\n",
    "The `labels` are the same English sequences shifted by 1.\n",
    "This shift is so that at each location input `en` sequence, the `label` in the next token.\n"
   ]
  },
  {
   "cell_type": "markdown",
   "metadata": {
    "id": "tsF751JJdJt"
   },
   "source": [
    "This is the same as the [text generation tutorial](text_generation.ipynb),\n",
    "except here you have additional input \"context\" (the Portuguese sequence) that the model is \"conditioned\" on.\n",
    "\n",
    "This setup is called \"teacher forcing\" because regardless of the model's output at each timestep, it gets the true value as input for the next timestep.\n",
    "This is a simple and efficient way to train a text generation model.\n",
    "It's efficient because you don't need to run the model sequentially, the outputs at the different sequence locations can be computed in parallel.\n",
    "\n",
    "You might have expected the `input, output`, pairs to simply be the `Protugese, English` sequences.\n",
    "Given the Portuguese sequence, the model would try to generate the English sequence.\n",
    "\n",
    "It's possible to train a model that way. You'd need to write out the inference loop and pass the model's output back to the input.\n",
    "It's slower (time steps can't run in parallel), and a harder task to learn (the model can't get the end of a sentence right until it gets the beginning right),\n",
    "but it can give a more stable model because the model has to learn to correct its own errors during training."
   ]
  },
  {
   "cell_type": "markdown",
   "metadata": {
    "id": "7e7hKcxn6-zd"
   },
   "source": [
    "## Define the components"
   ]
  },
  {
   "cell_type": "markdown",
   "metadata": {
    "id": "4gcCNZP7lzdy"
   },
   "source": [
    "The formula for calculating the positional encoding (implemented in Python below) is as follows:\n",
    "\n",
    "$$\\Large{PE_{(pos, 2i)} = \\sin(pos / 10000^{2i / d_{model}})} $$\n",
    "$$\\Large{PE_{(pos, 2i+1)} = \\cos(pos / 10000^{2i / d_{model}})} $$"
   ]
  },
  {
   "cell_type": "code",
   "execution_count": 6,
   "metadata": {
    "execution": {
     "iopub.execute_input": "2022-12-14T12:28:07.548099Z",
     "iopub.status.busy": "2022-12-14T12:28:07.547546Z",
     "iopub.status.idle": "2022-12-14T12:28:07.552948Z",
     "shell.execute_reply": "2022-12-14T12:28:07.552094Z"
    },
    "id": "1Rz82wEs5biZ"
   },
   "outputs": [],
   "source": [
    "def positional_encoding(length, depth):\n",
    "  depth = depth/2\n",
    "\n",
    "  positions = np.arange(length)[:, np.newaxis]     # (seq, 1)\n",
    "  depths = np.arange(depth)[np.newaxis, :]/depth   # (1, depth)\n",
    "  \n",
    "  angle_rates = 1 / (10000**depths)         # (1, depth)\n",
    "  angle_rads = positions * angle_rates      # (pos, depth)\n",
    "\n",
    "  pos_encoding = np.concatenate(\n",
    "      [np.sin(angle_rads), np.cos(angle_rads)],\n",
    "      axis=-1) \n",
    "\n",
    "  return tf.cast(pos_encoding, dtype=tf.float32)"
   ]
  },
  {
   "cell_type": "markdown",
   "metadata": {
    "id": "Ra1IcbzFhnmF"
   },
   "source": [
    "The position encoding function is a stack of sines and cosines that vibrate at different frequencies depending on their location along the depth of the embedding vector. They vibrate across the position axis."
   ]
  },
  {
   "cell_type": "markdown",
   "metadata": {
    "id": "eKqVkl9Jlzg6"
   },
   "source": [
    "By definition these vectors align well with nearby vectors along the position axis. Below the position encoding vectors are normalized and the vector from position `1000` is compared, by dot-product, to all the others:"
   ]
  },
  {
   "cell_type": "markdown",
   "metadata": {
    "id": "LUknPLlVm99o"
   },
   "source": [
    "So use this to create a `PositionEmbedding` layer that looks-up a token's embedding vector and adds the position vector:"
   ]
  },
  {
   "cell_type": "code",
   "execution_count": 7,
   "metadata": {
    "execution": {
     "iopub.execute_input": "2022-12-14T12:28:08.848947Z",
     "iopub.status.busy": "2022-12-14T12:28:08.848300Z",
     "iopub.status.idle": "2022-12-14T12:28:08.853898Z",
     "shell.execute_reply": "2022-12-14T12:28:08.853335Z"
    },
    "id": "838tmM1cm9cB"
   },
   "outputs": [],
   "source": [
    "class PositionalEmbedding(tf.keras.layers.Layer):\n",
    "  def __init__(self, d_model):\n",
    "    super().__init__()\n",
    "    self.d_model = d_model\n",
    "    self.pos_encoding = positional_encoding(length=2048, depth=d_model)\n",
    "\n",
    "  def call(self, x):\n",
    "    length = tf.shape(x)[1]\n",
    "    # This factor sets the relative scale of the embedding and positonal_encoding.\n",
    "    x *= tf.math.sqrt(tf.cast(self.d_model, tf.float32))\n",
    "    x = x + self.pos_encoding[tf.newaxis, :length, :]\n",
    "    return x\n"
   ]
  },
  {
   "cell_type": "markdown",
   "metadata": {
    "id": "Z6chjIrOVSYp"
   },
   "source": [
    "To implement these attention layers, start with a simple base class that just contains the component layers. Each use-case will be implemented as a subclass. It's a little more code to write this way, but it keeps the intention clear."
   ]
  },
  {
   "cell_type": "code",
   "execution_count": 8,
   "metadata": {
    "execution": {
     "iopub.execute_input": "2022-12-14T12:28:08.985503Z",
     "iopub.status.busy": "2022-12-14T12:28:08.984995Z",
     "iopub.status.idle": "2022-12-14T12:28:08.988972Z",
     "shell.execute_reply": "2022-12-14T12:28:08.988244Z"
    },
    "id": "5VLa5QcdPpv5"
   },
   "outputs": [],
   "source": [
    "class BaseAttention(tf.keras.layers.Layer):\n",
    "  def __init__(self, **kwargs):\n",
    "    super().__init__()\n",
    "    self.mha = tf.keras.layers.MultiHeadAttention(**kwargs)\n",
    "    self.layernorm = tf.keras.layers.LayerNormalization()\n",
    "    self.add = tf.keras.layers.Add()"
   ]
  },
  {
   "cell_type": "markdown",
   "metadata": {
    "id": "jhscgMUNUFWP"
   },
   "source": [
    "To implement this you pass the target sequence `x` as the `query` and the `context` sequence as the `key/value` when calling the `mha` layer:"
   ]
  },
  {
   "cell_type": "code",
   "execution_count": 9,
   "metadata": {
    "execution": {
     "iopub.execute_input": "2022-12-14T12:28:08.992769Z",
     "iopub.status.busy": "2022-12-14T12:28:08.992343Z",
     "iopub.status.idle": "2022-12-14T12:28:08.996367Z",
     "shell.execute_reply": "2022-12-14T12:28:08.995761Z"
    },
    "id": "kfHVbJUWv8qp"
   },
   "outputs": [],
   "source": [
    "class CrossAttention(BaseAttention):\n",
    "  def call(self, x, context):\n",
    "    attn_output, attn_scores = self.mha(\n",
    "        query=x,\n",
    "        key=context,\n",
    "        value=context,\n",
    "        return_attention_scores=True)\n",
    "   \n",
    "    # Cache the attention scores for plotting later.\n",
    "    self.last_attn_scores = attn_scores\n",
    "\n",
    "    x = self.add([x, attn_output])\n",
    "    x = self.layernorm(x)\n",
    "\n",
    "    return x"
   ]
  },
  {
   "cell_type": "markdown",
   "metadata": {
    "id": "BCQsj7ljKv-4"
   },
   "source": [
    "Test run it on sample inputs:"
   ]
  },
  {
   "cell_type": "code",
   "execution_count": 10,
   "metadata": {
    "execution": {
     "iopub.execute_input": "2022-12-14T12:28:09.481894Z",
     "iopub.status.busy": "2022-12-14T12:28:09.481345Z",
     "iopub.status.idle": "2022-12-14T12:28:09.485445Z",
     "shell.execute_reply": "2022-12-14T12:28:09.484807Z"
    },
    "id": "RNqoTpn1wB3i"
   },
   "outputs": [],
   "source": [
    "class GlobalSelfAttention(BaseAttention):\n",
    "  def call(self, x):\n",
    "    attn_output = self.mha(\n",
    "        query=x,\n",
    "        value=x,\n",
    "        key=x)\n",
    "    x = self.add([x, attn_output])\n",
    "    x = self.layernorm(x)\n",
    "    return x"
   ]
  },
  {
   "cell_type": "markdown",
   "metadata": {
    "id": "WLYfIa8eiYgk"
   },
   "source": [
    "To build a causal self attention layer, you need to use an appropriate mask when computing the attention scores and summing the attention `value`s.\n",
    "\n",
    "This is taken care of automatically if you pass `use_causal_mask = True` to the `MultiHeadAttention` layer when you call it:"
   ]
  },
  {
   "cell_type": "code",
   "execution_count": 11,
   "metadata": {
    "execution": {
     "iopub.execute_input": "2022-12-14T12:28:09.525433Z",
     "iopub.status.busy": "2022-12-14T12:28:09.524892Z",
     "iopub.status.idle": "2022-12-14T12:28:09.528977Z",
     "shell.execute_reply": "2022-12-14T12:28:09.528327Z"
    },
    "id": "4MMQ-AfKD99_"
   },
   "outputs": [],
   "source": [
    "class CausalSelfAttention(BaseAttention):\n",
    "  def call(self, x):\n",
    "    attn_output = self.mha(\n",
    "        query=x,\n",
    "        value=x,\n",
    "        key=x,\n",
    "        use_causal_mask = True)\n",
    "    x = self.add([x, attn_output])\n",
    "    x = self.layernorm(x)\n",
    "    return x"
   ]
  },
  {
   "cell_type": "markdown",
   "metadata": {
    "id": "nLjScSWQv9M5"
   },
   "source": [
    "### The feed forward network"
   ]
  },
  {
   "cell_type": "markdown",
   "metadata": {
    "id": "pz0HBopX_VdU"
   },
   "source": [
    "The transformer also includes this point-wise feed-forward network in both the encoder and decoder:"
   ]
  },
  {
   "cell_type": "markdown",
   "metadata": {
    "id": "0Yb-IV0Nlzd0"
   },
   "source": [
    "The network consists of two linear layers (`tf.keras.layers.Dense`) with a ReLU activation in-between, and a dropout layer. As with the attention layers the code here also includes the residual connection and normalization:"
   ]
  },
  {
   "cell_type": "code",
   "execution_count": 12,
   "metadata": {
    "execution": {
     "iopub.execute_input": "2022-12-14T12:28:09.611691Z",
     "iopub.status.busy": "2022-12-14T12:28:09.611090Z",
     "iopub.status.idle": "2022-12-14T12:28:09.616635Z",
     "shell.execute_reply": "2022-12-14T12:28:09.615933Z"
    },
    "id": "rAYLeu0uwXYK"
   },
   "outputs": [],
   "source": [
    "class FeedForward(tf.keras.layers.Layer):\n",
    "  def __init__(self, d_model, dff, dropout_rate=0.1):\n",
    "    super().__init__()\n",
    "    self.seq = tf.keras.Sequential([\n",
    "      tf.keras.layers.Dense(dff, activation='relu'),\n",
    "      tf.keras.layers.Dense(d_model),\n",
    "      tf.keras.layers.Dropout(dropout_rate)\n",
    "    ])\n",
    "    self.add = tf.keras.layers.Add()\n",
    "    self.layer_norm = tf.keras.layers.LayerNormalization()\n",
    "\n",
    "  def call(self, x):\n",
    "    x = self.add([x, self.seq(x)])\n",
    "    x = self.layer_norm(x) \n",
    "    return x\n"
   ]
  },
  {
   "cell_type": "markdown",
   "metadata": {
    "id": "QFv-FNYUmvpn"
   },
   "source": [
    "### The encoder layer"
   ]
  },
  {
   "cell_type": "markdown",
   "metadata": {
    "id": "zk-DAL2xv4PZ"
   },
   "source": [
    "The encoder contains a stack of `N` encoder layers. Where each `EncoderLayer` contains a `GlobalSelfAttention` and `FeedForward` layer:"
   ]
  },
  {
   "cell_type": "markdown",
   "metadata": {
    "id": "8kRUT__Ly9HH"
   },
   "source": [
    "Here is the definition of the `EncoderLayer`:"
   ]
  },
  {
   "cell_type": "code",
   "execution_count": 13,
   "metadata": {
    "execution": {
     "iopub.execute_input": "2022-12-14T12:28:09.679609Z",
     "iopub.status.busy": "2022-12-14T12:28:09.679040Z",
     "iopub.status.idle": "2022-12-14T12:28:09.683913Z",
     "shell.execute_reply": "2022-12-14T12:28:09.683260Z"
    },
    "id": "ncyS-Ms3i2x_"
   },
   "outputs": [],
   "source": [
    "class EncoderLayer(tf.keras.layers.Layer):\n",
    "  def __init__(self,*, d_model, num_heads, dff, dropout_rate=0.1):\n",
    "    super().__init__()\n",
    "\n",
    "    self.self_attention = GlobalSelfAttention(\n",
    "        num_heads=num_heads,\n",
    "        key_dim=d_model,\n",
    "        dropout=dropout_rate)\n",
    "\n",
    "    self.ffn = FeedForward(d_model, dff)\n",
    "\n",
    "  def call(self, x):\n",
    "    x = self.self_attention(x)\n",
    "    x = self.ffn(x)\n",
    "    return x"
   ]
  },
  {
   "cell_type": "markdown",
   "metadata": {
    "id": "SE1H51Ajm0q1"
   },
   "source": [
    "### The encoder"
   ]
  },
  {
   "cell_type": "markdown",
   "metadata": {
    "id": "Fym9ah11ykMd"
   },
   "source": [
    "Next build the encoder."
   ]
  },
  {
   "cell_type": "markdown",
   "metadata": {
    "id": "DA6sVo5rlzd3"
   },
   "source": [
    "The encoder consists of:\n",
    "\n",
    "- A `PositionalEmbedding` layer at the input.\n",
    "- A stack of `EncoderLayer` layers."
   ]
  },
  {
   "cell_type": "code",
   "execution_count": 19,
   "metadata": {
    "execution": {
     "iopub.execute_input": "2022-12-14T12:28:09.772708Z",
     "iopub.status.busy": "2022-12-14T12:28:09.772210Z",
     "iopub.status.idle": "2022-12-14T12:28:09.777902Z",
     "shell.execute_reply": "2022-12-14T12:28:09.777313Z"
    },
    "id": "jpEox7gJ8FCI"
   },
   "outputs": [],
   "source": [
    "class Encoder(tf.keras.layers.Layer):\n",
    "  def __init__(self, *, num_layers, d_model, num_heads,\n",
    "               dff, dropout_rate=0.1):\n",
    "    super().__init__()\n",
    "\n",
    "    self.d_model = d_model\n",
    "    self.num_layers = num_layers\n",
    "    # self.pos_embedding = PositionalEmbedding(d_model=d_model)\n",
    "    self.enc_layers = [\n",
    "        EncoderLayer(d_model=d_model,\n",
    "                     num_heads=num_heads,\n",
    "                     dff=dff,\n",
    "                     dropout_rate=dropout_rate)\n",
    "        for _ in range(num_layers)]\n",
    "    \n",
    "    self.dropout = tf.keras.layers.Dropout(dropout_rate)\n",
    "\n",
    "  def call(self, x):\n",
    "    # `x` is token-IDs shape: (batch, seq_len)\n",
    "    # x = self.pos_embedding(x)  # Shape `(batch_size, seq_len, d_model)`.\n",
    "    \n",
    "    x = self.dropout(x)\n",
    "\n",
    "    for i in range(self.num_layers):\n",
    "      x = self.enc_layers[i](x)\n",
    "\n",
    "    return x  # Shape `(batch_size, seq_len, d_model)`."
   ]
  },
  {
   "cell_type": "markdown",
   "metadata": {
    "id": "y54xnJnuYgJ7"
   },
   "source": [
    "## The Transformer"
   ]
  },
  {
   "cell_type": "markdown",
   "metadata": {
    "id": "PSi8vBN1lzd4"
   },
   "source": [
    "You now have `Encoder` and `Decoder`. To complete the `Transformer` model, you need to put them together and add a final linear (`Dense`) layer which converts the resulting vector at each location into output token probabilities. \n",
    "\n",
    "The output of the decoder is the input to this final linear layer."
   ]
  },
  {
   "cell_type": "markdown",
   "metadata": {
    "id": "trHHo2z_LC-u"
   },
   "source": [
    "A `Transformer` with one layer in both the `Encoder` and `Decoder` looks almost exactly like the model from the [RNN+attention tutorial](https://www.tensorflow.org/text/tutorials/nmt_with_attention). A multi-layer Transformer has more layers, but is fundamentally doing the same thing."
   ]
  },
  {
   "cell_type": "markdown",
   "metadata": {
    "id": "I5vSbJ_gKx7C"
   },
   "source": [
    "Create the `Transformer` by extending `tf.keras.Model`:"
   ]
  },
  {
   "cell_type": "code",
   "execution_count": 20,
   "metadata": {
    "execution": {
     "iopub.execute_input": "2022-12-14T12:28:10.748947Z",
     "iopub.status.busy": "2022-12-14T12:28:10.748391Z",
     "iopub.status.idle": "2022-12-14T12:28:10.754611Z",
     "shell.execute_reply": "2022-12-14T12:28:10.753985Z"
    },
    "id": "PED3bIpOYkBu"
   },
   "outputs": [],
   "source": [
    "class Transformer(tf.keras.Model):\n",
    "  def __init__(self, *, num_layers, d_model, num_heads, dff, n_labels,\n",
    "               dropout_rate=0.1):\n",
    "    super().__init__()\n",
    "\n",
    "    self.encoder = Encoder(num_layers=num_layers, d_model=d_model,\n",
    "                           num_heads=num_heads, dff=dff,\n",
    "                           dropout_rate=dropout_rate)\n",
    "\n",
    "    self.dropout_layer = tf.keras.layers.Dropout(dropout_rate)\n",
    "    self.pooling_layer = tf.keras.layers.GlobalAvgPool1D()\n",
    "    self.dense_layer = tf.keras.layers.Dense(4 * n_labels, 'selu')\n",
    "    self.final_layer = tf.keras.layers.Dense(n_labels, activation='sigmoid')\n",
    "\n",
    "    self.softmax = tf.keras.layers.Softmax()\n",
    "\n",
    "  def call(self, inputs):\n",
    "    # To use a Keras model with `.fit` you must pass all your inputs in the\n",
    "    # first argument.\n",
    "\n",
    "    context = self.encoder(inputs)  # (batch_size, context_len, d_model)\n",
    "\n",
    "    context = self.dropout_layer(context)\n",
    "\n",
    "    context = self.pooling_layer(context)\n",
    "\n",
    "    context = self.dense_layer(context)\n",
    "\n",
    "    # Final linear layer output.\n",
    "    out = self.final_layer(context)  # (batch_size, target_len, target_vocab_size)\n",
    "\n",
    "    return out"
   ]
  },
  {
   "cell_type": "markdown",
   "metadata": {
    "id": "wsINyf1VEQLC"
   },
   "source": [
    "### Hyperparameters"
   ]
  },
  {
   "cell_type": "markdown",
   "metadata": {
    "id": "IjwMq_ixlzd5"
   },
   "source": [
    "To keep this example small and relatively fast, the number of layers (`num_layers`), the dimensionality of the embeddings (`d_model`), and the internal dimensionality of the `FeedForward` layer (`dff`) have been reduced.\n",
    "\n",
    "The base model described in the original Transformer paper used `num_layers=6`, `d_model=512`, and `dff=2048`.\n",
    "\n",
    "The number of self-attention heads remains the same (`num_heads=8`).\n"
   ]
  },
  {
   "cell_type": "code",
   "execution_count": 21,
   "metadata": {
    "execution": {
     "iopub.execute_input": "2022-12-14T12:28:10.758345Z",
     "iopub.status.busy": "2022-12-14T12:28:10.757688Z",
     "iopub.status.idle": "2022-12-14T12:28:10.761129Z",
     "shell.execute_reply": "2022-12-14T12:28:10.760529Z"
    },
    "id": "mzyo6KDfVyhl"
   },
   "outputs": [],
   "source": [
    "num_layers = 8\n",
    "d_model = 128\n",
    "dff = 256\n",
    "num_heads = 8\n",
    "dropout_rate = 0.2"
   ]
  },
  {
   "cell_type": "markdown",
   "metadata": {
    "id": "g08YOE-zHRqY"
   },
   "source": [
    "### Try it out"
   ]
  },
  {
   "cell_type": "markdown",
   "metadata": {
    "id": "yYbXDEhhlzd6"
   },
   "source": [
    "Instantiate the `Transformer` model:"
   ]
  },
  {
   "cell_type": "code",
   "execution_count": 22,
   "metadata": {
    "execution": {
     "iopub.execute_input": "2022-12-14T12:28:10.764657Z",
     "iopub.status.busy": "2022-12-14T12:28:10.764077Z",
     "iopub.status.idle": "2022-12-14T12:28:11.032941Z",
     "shell.execute_reply": "2022-12-14T12:28:11.032121Z"
    },
    "id": "UiysUa--4tOU"
   },
   "outputs": [],
   "source": [
    "transformer = Transformer(\n",
    "    num_layers=num_layers,\n",
    "    d_model=d_model,\n",
    "    num_heads=num_heads,\n",
    "    dff=dff,\n",
    "    dropout_rate=dropout_rate,\n",
    "    n_labels=lab_train.shape[1])"
   ]
  },
  {
   "cell_type": "markdown",
   "metadata": {
    "id": "_jTvJsXquaHW"
   },
   "source": [
    "Print the summary of the model:"
   ]
  },
  {
   "cell_type": "code",
   "execution_count": 23,
   "metadata": {
    "execution": {
     "iopub.execute_input": "2022-12-14T12:28:11.608735Z",
     "iopub.status.busy": "2022-12-14T12:28:11.608268Z",
     "iopub.status.idle": "2022-12-14T12:28:11.631886Z",
     "shell.execute_reply": "2022-12-14T12:28:11.631193Z"
    },
    "id": "IsUPhlfEtOjn"
   },
   "outputs": [
    {
     "name": "stdout",
     "output_type": "stream",
     "text": [
      "Model: \"transformer_1\"\n",
      "_________________________________________________________________\n",
      " Layer (type)                Output Shape              Param #   \n",
      "=================================================================\n",
      " encoder_1 (Encoder)         multiple                  4751360   \n",
      "                                                                 \n",
      " dropout_19 (Dropout)        multiple                  0         \n",
      "                                                                 \n",
      " global_average_pooling1d_1   multiple                 0         \n",
      " (GlobalAveragePooling1D)                                        \n",
      "                                                                 \n",
      " dense_34 (Dense)            multiple                  2580      \n",
      "                                                                 \n",
      " dense_35 (Dense)            multiple                  105       \n",
      "                                                                 \n",
      " softmax_1 (Softmax)         multiple                  0 (unused)\n",
      "                                                                 \n",
      "=================================================================\n",
      "Total params: 4,754,045\n",
      "Trainable params: 4,754,045\n",
      "Non-trainable params: 0\n",
      "_________________________________________________________________\n"
     ]
    }
   ],
   "source": [
    "transformer.build((None, None,  128))\n",
    "transformer.summary()"
   ]
  },
  {
   "cell_type": "code",
   "execution_count": 30,
   "metadata": {},
   "outputs": [
    {
     "name": "stdout",
     "output_type": "stream",
     "text": [
      "You must install pydot (`pip install pydot`) and install graphviz (see instructions at https://graphviz.gitlab.io/download/) for plot_model to work.\n"
     ]
    }
   ],
   "source": [
    "dot_img_file = '/Plots/my_transformer_architecture.png'\n",
    "tf.keras.utils.plot_model(transformer, to_file=dot_img_file, show_shapes=True)"
   ]
  },
  {
   "cell_type": "markdown",
   "metadata": {
    "id": "EfoBfC2oQtEy"
   },
   "source": [
    "## Training\n",
    "\n",
    "It's time to prepare the model and start training it."
   ]
  },
  {
   "cell_type": "markdown",
   "metadata": {
    "id": "xYEGhEOtzn5W"
   },
   "source": [
    "### Set up the optimizer"
   ]
  },
  {
   "cell_type": "markdown",
   "metadata": {
    "id": "SL4G5bS6lzd5"
   },
   "source": [
    "Use the Adam optimizer with a custom learning rate scheduler according to the formula in the original Transformer [paper](https://arxiv.org/abs/1706.03762).\n",
    "\n",
    "$$\\Large{lrate = d_{model}^{-0.5} * \\min(step{\\_}num^{-0.5}, step{\\_}num \\cdot warmup{\\_}steps^{-1.5})}$$"
   ]
  },
  {
   "cell_type": "code",
   "execution_count": 31,
   "metadata": {
    "execution": {
     "iopub.execute_input": "2022-12-14T12:28:11.635883Z",
     "iopub.status.busy": "2022-12-14T12:28:11.635060Z",
     "iopub.status.idle": "2022-12-14T12:28:11.640860Z",
     "shell.execute_reply": "2022-12-14T12:28:11.640130Z"
    },
    "id": "iYQdOO1axwEI"
   },
   "outputs": [],
   "source": [
    "class CustomSchedule(tf.keras.optimizers.schedules.LearningRateSchedule):\n",
    "  def __init__(self, d_model, warmup_steps=4000):\n",
    "    super().__init__()\n",
    "\n",
    "    self.d_model = d_model\n",
    "    self.d_model = tf.cast(self.d_model, tf.float32)\n",
    "\n",
    "    self.warmup_steps = warmup_steps\n",
    "\n",
    "  def __call__(self, step):\n",
    "    step = tf.cast(step, dtype=tf.float32)\n",
    "    arg1 = tf.math.rsqrt(step)\n",
    "    arg2 = step * (self.warmup_steps ** -1.5)\n",
    "\n",
    "    return tf.math.rsqrt(self.d_model) * tf.math.minimum(arg1, arg2)"
   ]
  },
  {
   "cell_type": "markdown",
   "metadata": {
    "id": "fzXq5LWgRN63"
   },
   "source": [
    "Instantiate the optimizer (in this example it's `tf.keras.optimizers.Adam`):"
   ]
  },
  {
   "cell_type": "code",
   "execution_count": 32,
   "metadata": {
    "execution": {
     "iopub.execute_input": "2022-12-14T12:28:11.644271Z",
     "iopub.status.busy": "2022-12-14T12:28:11.643687Z",
     "iopub.status.idle": "2022-12-14T12:28:11.656841Z",
     "shell.execute_reply": "2022-12-14T12:28:11.656156Z"
    },
    "id": "7r4scdulztRx"
   },
   "outputs": [],
   "source": [
    "learning_rate = CustomSchedule(d_model)\n",
    "\n",
    "optimizer = tf.keras.optimizers.Adam(learning_rate, beta_1=0.9, beta_2=0.98,\n",
    "                                     epsilon=1e-9)"
   ]
  },
  {
   "cell_type": "markdown",
   "metadata": {
    "id": "fTb2S4RnQ8DU"
   },
   "source": [
    "Test the custom learning rate scheduler:"
   ]
  },
  {
   "cell_type": "markdown",
   "metadata": {
    "id": "YgkDE7hzo8r5"
   },
   "source": [
    "### Set up the loss and metrics"
   ]
  },
  {
   "cell_type": "markdown",
   "metadata": {
    "id": "B6y7rNP5lzd6"
   },
   "source": [
    "Since the target sequences are padded, it is important to apply a padding mask when calculating the loss. Use the cross-entropy loss function (`tf.keras.losses.SparseCategoricalCrossentropy`):"
   ]
  },
  {
   "cell_type": "markdown",
   "metadata": {
    "id": "xYEasEOsdn5W"
   },
   "source": [
    "### Train the model"
   ]
  },
  {
   "cell_type": "markdown",
   "metadata": {
    "id": "Mk8vwuN24hafK"
   },
   "source": [
    "With all the components ready, configure the training procedure using `model.compile`, and then run it with `model.fit`:\n",
    "\n",
    "Note: This takes about an hour to train in Colab."
   ]
  },
  {
   "cell_type": "code",
   "execution_count": 33,
   "metadata": {
    "execution": {
     "iopub.execute_input": "2022-12-14T12:28:11.830044Z",
     "iopub.status.busy": "2022-12-14T12:28:11.829608Z",
     "iopub.status.idle": "2022-12-14T12:28:11.840935Z",
     "shell.execute_reply": "2022-12-14T12:28:11.840358Z"
    },
    "id": "Una1v0hDlIsT"
   },
   "outputs": [],
   "source": [
    "transformer.compile(\n",
    "    loss=tf.keras.losses.BinaryCrossentropy(),\n",
    "    optimizer=optimizer,\n",
    "    metrics=[tf.keras.metrics.BinaryAccuracy()])"
   ]
  },
  {
   "cell_type": "code",
   "execution_count": 34,
   "metadata": {
    "execution": {
     "iopub.execute_input": "2022-12-14T12:28:11.844294Z",
     "iopub.status.busy": "2022-12-14T12:28:11.843725Z",
     "iopub.status.idle": "2022-12-14T13:16:07.734882Z",
     "shell.execute_reply": "2022-12-14T13:16:07.733975Z"
    },
    "id": "Jg35qKvVlctp"
   },
   "outputs": [
    {
     "name": "stdout",
     "output_type": "stream",
     "text": [
      "Epoch 1/20\n",
      "20/20 [==============================] - 701s 34s/step - loss: 0.8160 - binary_accuracy: 0.3782 - val_loss: 0.5688 - val_binary_accuracy: 0.7690\n",
      "Epoch 2/20\n",
      "20/20 [==============================] - 690s 35s/step - loss: 0.5343 - binary_accuracy: 0.7925 - val_loss: 0.5908 - val_binary_accuracy: 0.8000\n",
      "Epoch 3/20\n",
      "20/20 [==============================] - 654s 33s/step - loss: 0.5019 - binary_accuracy: 0.8000 - val_loss: 0.5507 - val_binary_accuracy: 0.7870\n",
      "Epoch 4/20\n",
      "20/20 [==============================] - 667s 33s/step - loss: 0.4894 - binary_accuracy: 0.8000 - val_loss: 0.5777 - val_binary_accuracy: 0.7617\n",
      "Epoch 5/20\n",
      "20/20 [==============================] - 675s 34s/step - loss: 0.4823 - binary_accuracy: 0.7996 - val_loss: 0.5734 - val_binary_accuracy: 0.7614\n",
      "Epoch 6/20\n",
      "20/20 [==============================] - 678s 34s/step - loss: 0.4706 - binary_accuracy: 0.8016 - val_loss: 0.6683 - val_binary_accuracy: 0.7398\n"
     ]
    }
   ],
   "source": [
    "es = tf.keras.callbacks.EarlyStopping(\n",
    "    monitor = 'val_loss',\n",
    "    patience = 3\n",
    ")\n",
    "\n",
    "hist = transformer.fit(train_batches,\n",
    "                epochs=20,\n",
    "                callbacks=[es],\n",
    "                validation_data=val_batches)"
   ]
  },
  {
   "cell_type": "code",
   "execution_count": null,
   "metadata": {},
   "outputs": [],
   "source": [
    "transformer.save_weights('models/my_transformer')"
   ]
  },
  {
   "cell_type": "code",
   "execution_count": null,
   "metadata": {},
   "outputs": [
    {
     "name": "stdout",
     "output_type": "stream",
     "text": [
      "available keys dict_keys(['loss', 'binary_accuracy', 'val_loss', 'val_binary_accuracy'])\n"
     ]
    },
    {
     "data": {
      "image/png": "[encoded data removed]",
      "text/plain": [
       "<Figure size 640x480 with 1 Axes>"
      ]
     },
     "metadata": {},
     "output_type": "display_data"
    },
    {
     "data": {
      "image/png": "[encoded data removed]",
      "text/plain": [
       "<Figure size 640x480 with 1 Axes>"
      ]
     },
     "metadata": {},
     "output_type": "display_data"
    }
   ],
   "source": [
    "from lib_util import plot\n",
    "epochs= 20\n",
    "history_dict = utils.load_history('my_transformer')\n",
    "\n",
    "print('available keys', history_dict.keys())\n",
    "\n",
    "#Plots for the accuracies and losses of the train and validation data per epoch\n",
    "plot.plot_hist(history_dict, ('binary_accuracy', 'val_binary_accuracy'), legends=('train', 'validation'), title='Accuracy', y_label='accuracy ->', x_label='epochs ->', save_to=f'Plots/short_chunk_cnn_{epochs}_acuracy')\n",
    "plot.plot_hist(history_dict, ('loss', 'val_loss'), legends=('train', 'validation'), title='Loss', y_label='loss ->', x_label='epochs ->', save_to=f'Plots/short_chunk_cnn_{epochs}_loss')"
   ]
  },
  {
   "cell_type": "code",
   "execution_count": null,
   "metadata": {},
   "outputs": [],
   "source": [
    "from sklearn.metrics import f1_score, accuracy_score, confusion_matrix\n",
    "\n",
    "# Test prediction\n",
    "scores = transformer.evaluate(mel_test, lab_test)\n",
    "\n",
    "y_pred = transformer.predict(mel_test)"
   ]
  },
  {
   "cell_type": "code",
   "execution_count": 51,
   "metadata": {},
   "outputs": [
    {
     "name": "stdout",
     "output_type": "stream",
     "text": [
      "0.32432432432432434\n",
      "[0 2 3]\n"
     ]
    }
   ],
   "source": [
    "y_pred_m = np.argmax(y_pred, axis=1)\n",
    "\n",
    "print(np.sum(y_pred_m==np.argmax(lab_test, axis=1))/y_pred_m.shape[0])\n",
    "\n",
    "print(np.unique(y_pred_m))"
   ]
  }
 ],
 "metadata": {
  "colab": {
   "collapsed_sections": [],
   "last_runtime": {
    "build_target": "//learning/deepmind/public/tools/ml_python:ml_notebook",
    "kind": "private"
   },
   "private_outputs": true,
   "provenance": []
  },
  "kernelspec": {
   "display_name": "ai-industry",
   "language": "python",
   "name": "python3"
  },
  "language_info": {
   "codemirror_mode": {
    "name": "ipython",
    "version": 3
   },
   "file_extension": ".py",
   "mimetype": "text/x-python",
   "name": "python",
   "nbconvert_exporter": "python",
   "pygments_lexer": "ipython3",
   "version": "3.9.15 (main, Nov 22 2022, 19:03:52) \n[Clang 13.1.6 (clang-1316.0.21.2.5)]"
  },
  "vscode": {
   "interpreter": {
    "hash": "ca8db3ad7877ac29be891f762e2f8f2bd0b14f50820e5ea7ad73e7636a7ffe5d"
   }
  }
 },
 "nbformat": 4,
 "nbformat_minor": 0
}
