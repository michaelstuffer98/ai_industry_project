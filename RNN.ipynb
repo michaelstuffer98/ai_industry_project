{
 "cells": [
  {
   "attachments": {},
   "cell_type": "markdown",
   "metadata": {},
   "source": [
    "# Recurrent Neural Network\n",
    "This file traines a recurrent neural network on the melspectogram features"
   ]
  },
  {
   "cell_type": "code",
   "execution_count": 25,
   "metadata": {},
   "outputs": [
    {
     "name": "stdout",
     "output_type": "stream",
     "text": [
      "The autoreload extension is already loaded. To reload it, use:\n",
      "  %reload_ext autoreload\n"
     ]
    }
   ],
   "source": [
    "import json\n",
    "import yaml\n",
    "from pathlib import Path\n",
    "from lib_util import utils, plot\n",
    "\n",
    "\n",
    "import numpy as np\n",
    "import pandas as pd\n",
    "import pickle\n",
    "\n",
    "from sklearn.model_selection import train_test_split\n",
    "from sklearn.metrics import f1_score, accuracy_score, confusion_matrix\n",
    "\n",
    "from keras.callbacks import ModelCheckpoint, ReduceLROnPlateau, EarlyStopping \n",
    "from keras.losses import BinaryCrossentropy\n",
    "from keras.metrics import BinaryAccuracy\n",
    "\n",
    "from keras.layers import (\n",
    "    Input,\n",
    "    GlobalAvgPool1D,\n",
    "    Dense,\n",
    "    Bidirectional,\n",
    "    GRU,\n",
    "    Dropout,\n",
    ")\n",
    "from keras.models import Model, load_model\n",
    "from keras.optimizers import Adam\n",
    "\n",
    "from tensorflow.python.ops import math_ops\n",
    "from tensorflow.python.framework import ops\n",
    "from tensorflow.python.keras import backend as K\n",
    "from tensorflow.python.ops import clip_ops\n",
    "\n",
    "%load_ext autoreload\n",
    "%autoreload 2\n",
    "%matplotlib inline"
   ]
  },
  {
   "attachments": {},
   "cell_type": "markdown",
   "metadata": {},
   "source": [
    "# Define crossentropy and accuracy metric for the training routine\n",
    "\n",
    "For the metric we use a binary accuracy, for the loss a binary cross-entropy loss"
   ]
  },
  {
   "attachments": {},
   "cell_type": "markdown",
   "metadata": {},
   "source": [
    "# Define the model\n",
    "\n",
    "define the RNN model structure "
   ]
  },
  {
   "cell_type": "code",
   "execution_count": 26,
   "metadata": {},
   "outputs": [],
   "source": [
    "def rnn_model(model_config, n_classes):\n",
    "    \"\"\"RNN model where the model will be trained on the training data\n",
    "    \"\"\"\n",
    "    d_model = model_config['d_model']\n",
    "    n_layers = model_config['n_layers']\n",
    "    init_lr = model_config['init_learning_rate']\n",
    "    dropout_rate = model_config['dropout_rate']\n",
    "    activations = model_config['activations']\n",
    "    dense_layer_class_ratio = model_config['dense_layer_class_ratio']\n",
    "    inp = Input((None, d_model))\n",
    "    #Bidirectional means having a neural network in both directions backwards\n",
    "    x = Bidirectional(GRU(d_model, return_sequences=True))(inp)\n",
    "    # Making different bidirectional layers \n",
    "    if n_classes > 1:\n",
    "        for i in range(n_layers):\n",
    "            x = Bidirectional(GRU(d_model, return_sequences=True))(x)\n",
    "\n",
    "    x = Dropout(dropout_rate)(x)\n",
    "    x = GlobalAvgPool1D()(x)\n",
    "    x = Dense(dense_layer_class_ratio * n_classes, activation=activations[0])(x)\n",
    "    out = Dense(n_classes, activation=activations[1])(x)\n",
    "    model = Model(inputs=inp, outputs=out)\n",
    "\n",
    "    loss = BinaryCrossentropy(\n",
    "        name='binary_crossentropy'\n",
    "    )\n",
    "    \n",
    "    metric = BinaryAccuracy(\n",
    "        name='binary_accuracy'\n",
    "    )\n",
    "    \n",
    "    model.compile(\n",
    "        optimizer=Adam(init_lr), loss=loss, metrics=metric\n",
    "    )\n",
    "\n",
    "    model.summary()\n",
    "\n",
    "    return model"
   ]
  },
  {
   "attachments": {},
   "cell_type": "markdown",
   "metadata": {},
   "source": [
    "# Main routine\n",
    "\n",
    "Load the configuration for this model"
   ]
  },
  {
   "cell_type": "code",
   "execution_count": 27,
   "metadata": {},
   "outputs": [],
   "source": [
    "config = utils.get_config('rnn')\n",
    "\n",
    "# Extract the values\n",
    "model_name = config['model_name']\n",
    "batch_size = config['batch_size']\n",
    "epochs = config['epochs']"
   ]
  },
  {
   "attachments": {},
   "cell_type": "markdown",
   "metadata": {},
   "source": [
    "# Load preprocessed data\n",
    "\n",
    "Load the numpy arrays and the label-class mapping. Split the data accordingly into train, validation and test set"
   ]
  },
  {
   "cell_type": "code",
   "execution_count": 28,
   "metadata": {},
   "outputs": [
    {
     "name": "stdout",
     "output_type": "stream",
     "text": [
      "Load slice from file melspec_features_001.npy\n",
      "Load slice from file melspec_features_002.npy\n",
      "Load slice from file melspec_features_003.npy\n",
      "Load slice from file melspec_features_004.npy\n",
      "Load slice from file melspec_features_005.npy\n",
      "Load slice from file melspec_features_006.npy\n",
      "Load slice from file melspec_features_007.npy\n",
      "Load slice from file melspec_features_008.npy\n",
      "Load slice from file melspec_features_009.npy\n",
      "Load slice from file melspec_features_010.npy\n",
      "Load slice from file melspec_features_011.npy\n",
      "Load slice from file melspec_features_012.npy\n",
      "Loaded 12 files as slices, resulting shape: (4068, 33152)\n"
     ]
    }
   ],
   "source": [
    "melspec_data = utils.load_sliced_numpy_array('melspec_features')\n",
    "labels = np.load('data/labels.npy')\n",
    "\n",
    "labels_to_id = utils.get_class_mapping()\n",
    "\n",
    "mel_train, mel_test_val, lab_train, lab_test_val = train_test_split(melspec_data, labels, train_size=config['train_set_size'], random_state=config['random_state'])\n",
    "mel_val, mel_test, lab_val, lab_test             = train_test_split(mel_test_val, lab_test_val, test_size=(config['val_set_size']/(1-config['train_set_size'])), shuffle=False)\n",
    "\n",
    "# Check the shapes of the splitted sets\n",
    "assert mel_train.shape[0] == lab_train.shape[0] and mel_test.shape[0] == lab_test.shape[0] and mel_val.shape[0] == lab_val.shape[0]\n",
    "assert mel_train.shape[1] == mel_test.shape[1] == mel_val.shape[1] and lab_train.shape[1] == lab_test.shape[1] == lab_val.shape[1]"
   ]
  },
  {
   "attachments": {},
   "cell_type": "markdown",
   "metadata": {},
   "source": [
    "# Set up the model callbacks\n",
    "\n",
    "For initializing parameters, refer to the config file. For callbacks, we use a frequently backup of the model as checkpoints, and early stopping mechanism to prevent overfitting on the train data and a learning rate reducer. The learning rate reducer smallers the update step when the validation metric does not improve anymore"
   ]
  },
  {
   "cell_type": "code",
   "execution_count": 29,
   "metadata": {},
   "outputs": [],
   "source": [
    "from pathlib import Path\n",
    "train_config = config['training']\n",
    "\n",
    "checkpoint = ModelCheckpoint(\n",
    "    Path(config['output_dir'])/f'{model_name}_checkpoint',\n",
    "    monitor=train_config['monitor'],\n",
    "    verbose=1,\n",
    "    save_best_only=train_config['save_best_weights'],\n",
    "    mode=train_config['monitor_mode'],\n",
    "    save_weights_only=False\n",
    ")\n",
    "\n",
    "\n",
    "es_config = config['training']['early_stopping']\n",
    "early_stopping = EarlyStopping(\n",
    "    monitor = es_config['monitor'],\n",
    "    patience = es_config['patience'],\n",
    "    verbose = 1,\n",
    "    mode = es_config['mode'],\n",
    "    restore_best_weights = True,\n",
    "    start_from_epoch = es_config['start_from_epoch']\n",
    ")\n",
    "\n",
    "# Reduce learning rate when val_loss stopps improving\n",
    "lr_reduce_config = train_config['lr_reducing']\n",
    "lr_reducing_on_platteau = ReduceLROnPlateau(\n",
    "    monitor=lr_reduce_config['monitor'], patience=lr_reduce_config['patience'], min_lr=lr_reduce_config['min_lr'], mode=lr_reduce_config['mode']\n",
    "    )"
   ]
  },
  {
   "attachments": {},
   "cell_type": "markdown",
   "metadata": {},
   "source": [
    "# Train routine"
   ]
  },
  {
   "cell_type": "code",
   "execution_count": 30,
   "metadata": {},
   "outputs": [
    {
     "name": "stdout",
     "output_type": "stream",
     "text": [
      "Model: \"model_1\"\n",
      "_________________________________________________________________\n",
      " Layer (type)                Output Shape              Param #   \n",
      "=================================================================\n",
      " input_2 (InputLayer)        [(None, None, 128)]       0         \n",
      "                                                                 \n",
      " bidirectional_3 (Bidirectio  (None, None, 256)        198144    \n",
      " nal)                                                            \n",
      "                                                                 \n",
      " bidirectional_4 (Bidirectio  (None, None, 256)        296448    \n",
      " nal)                                                            \n",
      "                                                                 \n",
      " bidirectional_5 (Bidirectio  (None, None, 256)        296448    \n",
      " nal)                                                            \n",
      "                                                                 \n",
      " dropout_1 (Dropout)         (None, None, 256)         0         \n",
      "                                                                 \n",
      " global_average_pooling1d_1   (None, 256)              0         \n",
      " (GlobalAveragePooling1D)                                        \n",
      "                                                                 \n",
      " dense_2 (Dense)             (None, 40)                10280     \n",
      "                                                                 \n",
      " dense_3 (Dense)             (None, 5)                 205       \n",
      "                                                                 \n",
      "=================================================================\n",
      "Total params: 801,525\n",
      "Trainable params: 801,525\n",
      "Non-trainable params: 0\n",
      "_________________________________________________________________\n",
      "Epoch 1/40\n",
      "\n",
      "Epoch 1: val_loss improved from inf to 0.47291, saving model to models/rnn/rnn_checkpoint\n"
     ]
    },
    {
     "name": "stderr",
     "output_type": "stream",
     "text": [
      "WARNING:absl:Found untraced functions such as gru_cell_37_layer_call_fn, gru_cell_37_layer_call_and_return_conditional_losses, gru_cell_38_layer_call_fn, gru_cell_38_layer_call_and_return_conditional_losses, gru_cell_40_layer_call_fn while saving (showing 5 of 12). These functions will not be directly callable after loading.\n"
     ]
    },
    {
     "name": "stdout",
     "output_type": "stream",
     "text": [
      "INFO:tensorflow:Assets written to: models/rnn/rnn_checkpoint/assets\n"
     ]
    },
    {
     "name": "stderr",
     "output_type": "stream",
     "text": [
      "INFO:tensorflow:Assets written to: models/rnn/rnn_checkpoint/assets\n"
     ]
    },
    {
     "name": "stdout",
     "output_type": "stream",
     "text": [
      "23/23 - 122s - loss: 0.5015 - binary_accuracy: 0.7926 - val_loss: 0.4729 - val_binary_accuracy: 0.8000 - lr: 1.0000e-04 - 122s/epoch - 5s/step\n",
      "Epoch 2/40\n",
      "\n",
      "Epoch 2: val_loss improved from 0.47291 to 0.45287, saving model to models/rnn/rnn_checkpoint\n"
     ]
    },
    {
     "name": "stderr",
     "output_type": "stream",
     "text": [
      "WARNING:absl:Found untraced functions such as gru_cell_37_layer_call_fn, gru_cell_37_layer_call_and_return_conditional_losses, gru_cell_38_layer_call_fn, gru_cell_38_layer_call_and_return_conditional_losses, gru_cell_40_layer_call_fn while saving (showing 5 of 12). These functions will not be directly callable after loading.\n"
     ]
    },
    {
     "name": "stdout",
     "output_type": "stream",
     "text": [
      "INFO:tensorflow:Assets written to: models/rnn/rnn_checkpoint/assets\n"
     ]
    },
    {
     "name": "stderr",
     "output_type": "stream",
     "text": [
      "INFO:tensorflow:Assets written to: models/rnn/rnn_checkpoint/assets\n"
     ]
    },
    {
     "name": "stdout",
     "output_type": "stream",
     "text": [
      "23/23 - 91s - loss: 0.4594 - binary_accuracy: 0.8020 - val_loss: 0.4529 - val_binary_accuracy: 0.8039 - lr: 1.0000e-04 - 91s/epoch - 4s/step\n",
      "Epoch 3/40\n",
      "\n",
      "Epoch 3: val_loss improved from 0.45287 to 0.43281, saving model to models/rnn/rnn_checkpoint\n"
     ]
    },
    {
     "name": "stderr",
     "output_type": "stream",
     "text": [
      "WARNING:absl:Found untraced functions such as gru_cell_37_layer_call_fn, gru_cell_37_layer_call_and_return_conditional_losses, gru_cell_38_layer_call_fn, gru_cell_38_layer_call_and_return_conditional_losses, gru_cell_40_layer_call_fn while saving (showing 5 of 12). These functions will not be directly callable after loading.\n"
     ]
    },
    {
     "name": "stdout",
     "output_type": "stream",
     "text": [
      "INFO:tensorflow:Assets written to: models/rnn/rnn_checkpoint/assets\n"
     ]
    },
    {
     "name": "stderr",
     "output_type": "stream",
     "text": [
      "INFO:tensorflow:Assets written to: models/rnn/rnn_checkpoint/assets\n"
     ]
    },
    {
     "name": "stdout",
     "output_type": "stream",
     "text": [
      "23/23 - 92s - loss: 0.4364 - binary_accuracy: 0.8110 - val_loss: 0.4328 - val_binary_accuracy: 0.8085 - lr: 1.0000e-04 - 92s/epoch - 4s/step\n",
      "Epoch 4/40\n",
      "\n",
      "Epoch 4: val_loss improved from 0.43281 to 0.41383, saving model to models/rnn/rnn_checkpoint\n"
     ]
    },
    {
     "name": "stderr",
     "output_type": "stream",
     "text": [
      "WARNING:absl:Found untraced functions such as gru_cell_37_layer_call_fn, gru_cell_37_layer_call_and_return_conditional_losses, gru_cell_38_layer_call_fn, gru_cell_38_layer_call_and_return_conditional_losses, gru_cell_40_layer_call_fn while saving (showing 5 of 12). These functions will not be directly callable after loading.\n"
     ]
    },
    {
     "name": "stdout",
     "output_type": "stream",
     "text": [
      "INFO:tensorflow:Assets written to: models/rnn/rnn_checkpoint/assets\n"
     ]
    },
    {
     "name": "stderr",
     "output_type": "stream",
     "text": [
      "INFO:tensorflow:Assets written to: models/rnn/rnn_checkpoint/assets\n"
     ]
    },
    {
     "name": "stdout",
     "output_type": "stream",
     "text": [
      "23/23 - 94s - loss: 0.4145 - binary_accuracy: 0.8204 - val_loss: 0.4138 - val_binary_accuracy: 0.8193 - lr: 1.0000e-04 - 94s/epoch - 4s/step\n",
      "Epoch 5/40\n",
      "\n",
      "Epoch 5: val_loss improved from 0.41383 to 0.39818, saving model to models/rnn/rnn_checkpoint\n"
     ]
    },
    {
     "name": "stderr",
     "output_type": "stream",
     "text": [
      "WARNING:absl:Found untraced functions such as gru_cell_37_layer_call_fn, gru_cell_37_layer_call_and_return_conditional_losses, gru_cell_38_layer_call_fn, gru_cell_38_layer_call_and_return_conditional_losses, gru_cell_40_layer_call_fn while saving (showing 5 of 12). These functions will not be directly callable after loading.\n"
     ]
    },
    {
     "name": "stdout",
     "output_type": "stream",
     "text": [
      "INFO:tensorflow:Assets written to: models/rnn/rnn_checkpoint/assets\n"
     ]
    },
    {
     "name": "stderr",
     "output_type": "stream",
     "text": [
      "INFO:tensorflow:Assets written to: models/rnn/rnn_checkpoint/assets\n"
     ]
    },
    {
     "name": "stdout",
     "output_type": "stream",
     "text": [
      "23/23 - 89s - loss: 0.3888 - binary_accuracy: 0.8334 - val_loss: 0.3982 - val_binary_accuracy: 0.8269 - lr: 1.0000e-04 - 89s/epoch - 4s/step\n",
      "Epoch 6/40\n",
      "\n",
      "Epoch 6: val_loss improved from 0.39818 to 0.38659, saving model to models/rnn/rnn_checkpoint\n"
     ]
    },
    {
     "name": "stderr",
     "output_type": "stream",
     "text": [
      "WARNING:absl:Found untraced functions such as gru_cell_37_layer_call_fn, gru_cell_37_layer_call_and_return_conditional_losses, gru_cell_38_layer_call_fn, gru_cell_38_layer_call_and_return_conditional_losses, gru_cell_40_layer_call_fn while saving (showing 5 of 12). These functions will not be directly callable after loading.\n"
     ]
    },
    {
     "name": "stdout",
     "output_type": "stream",
     "text": [
      "INFO:tensorflow:Assets written to: models/rnn/rnn_checkpoint/assets\n"
     ]
    },
    {
     "name": "stderr",
     "output_type": "stream",
     "text": [
      "INFO:tensorflow:Assets written to: models/rnn/rnn_checkpoint/assets\n"
     ]
    },
    {
     "name": "stdout",
     "output_type": "stream",
     "text": [
      "23/23 - 89s - loss: 0.3683 - binary_accuracy: 0.8422 - val_loss: 0.3866 - val_binary_accuracy: 0.8344 - lr: 1.0000e-04 - 89s/epoch - 4s/step\n",
      "Epoch 7/40\n",
      "\n",
      "Epoch 7: val_loss improved from 0.38659 to 0.37668, saving model to models/rnn/rnn_checkpoint\n"
     ]
    },
    {
     "name": "stderr",
     "output_type": "stream",
     "text": [
      "WARNING:absl:Found untraced functions such as gru_cell_37_layer_call_fn, gru_cell_37_layer_call_and_return_conditional_losses, gru_cell_38_layer_call_fn, gru_cell_38_layer_call_and_return_conditional_losses, gru_cell_40_layer_call_fn while saving (showing 5 of 12). These functions will not be directly callable after loading.\n"
     ]
    },
    {
     "name": "stdout",
     "output_type": "stream",
     "text": [
      "INFO:tensorflow:Assets written to: models/rnn/rnn_checkpoint/assets\n"
     ]
    },
    {
     "name": "stderr",
     "output_type": "stream",
     "text": [
      "INFO:tensorflow:Assets written to: models/rnn/rnn_checkpoint/assets\n"
     ]
    },
    {
     "name": "stdout",
     "output_type": "stream",
     "text": [
      "23/23 - 95s - loss: 0.3501 - binary_accuracy: 0.8560 - val_loss: 0.3767 - val_binary_accuracy: 0.8311 - lr: 1.0000e-04 - 95s/epoch - 4s/step\n",
      "Epoch 8/40\n",
      "\n",
      "Epoch 8: val_loss improved from 0.37668 to 0.36486, saving model to models/rnn/rnn_checkpoint\n"
     ]
    },
    {
     "name": "stderr",
     "output_type": "stream",
     "text": [
      "WARNING:absl:Found untraced functions such as gru_cell_37_layer_call_fn, gru_cell_37_layer_call_and_return_conditional_losses, gru_cell_38_layer_call_fn, gru_cell_38_layer_call_and_return_conditional_losses, gru_cell_40_layer_call_fn while saving (showing 5 of 12). These functions will not be directly callable after loading.\n"
     ]
    },
    {
     "name": "stdout",
     "output_type": "stream",
     "text": [
      "INFO:tensorflow:Assets written to: models/rnn/rnn_checkpoint/assets\n"
     ]
    },
    {
     "name": "stderr",
     "output_type": "stream",
     "text": [
      "INFO:tensorflow:Assets written to: models/rnn/rnn_checkpoint/assets\n"
     ]
    },
    {
     "name": "stdout",
     "output_type": "stream",
     "text": [
      "23/23 - 93s - loss: 0.3335 - binary_accuracy: 0.8594 - val_loss: 0.3649 - val_binary_accuracy: 0.8433 - lr: 1.0000e-04 - 93s/epoch - 4s/step\n",
      "Epoch 9/40\n",
      "\n",
      "Epoch 9: val_loss improved from 0.36486 to 0.36261, saving model to models/rnn/rnn_checkpoint\n"
     ]
    },
    {
     "name": "stderr",
     "output_type": "stream",
     "text": [
      "WARNING:absl:Found untraced functions such as gru_cell_37_layer_call_fn, gru_cell_37_layer_call_and_return_conditional_losses, gru_cell_38_layer_call_fn, gru_cell_38_layer_call_and_return_conditional_losses, gru_cell_40_layer_call_fn while saving (showing 5 of 12). These functions will not be directly callable after loading.\n"
     ]
    },
    {
     "name": "stdout",
     "output_type": "stream",
     "text": [
      "INFO:tensorflow:Assets written to: models/rnn/rnn_checkpoint/assets\n"
     ]
    },
    {
     "name": "stderr",
     "output_type": "stream",
     "text": [
      "INFO:tensorflow:Assets written to: models/rnn/rnn_checkpoint/assets\n"
     ]
    },
    {
     "name": "stdout",
     "output_type": "stream",
     "text": [
      "23/23 - 89s - loss: 0.3169 - binary_accuracy: 0.8709 - val_loss: 0.3626 - val_binary_accuracy: 0.8439 - lr: 1.0000e-04 - 89s/epoch - 4s/step\n",
      "Epoch 10/40\n",
      "\n",
      "Epoch 10: val_loss improved from 0.36261 to 0.35527, saving model to models/rnn/rnn_checkpoint\n"
     ]
    },
    {
     "name": "stderr",
     "output_type": "stream",
     "text": [
      "WARNING:absl:Found untraced functions such as gru_cell_37_layer_call_fn, gru_cell_37_layer_call_and_return_conditional_losses, gru_cell_38_layer_call_fn, gru_cell_38_layer_call_and_return_conditional_losses, gru_cell_40_layer_call_fn while saving (showing 5 of 12). These functions will not be directly callable after loading.\n"
     ]
    },
    {
     "name": "stdout",
     "output_type": "stream",
     "text": [
      "INFO:tensorflow:Assets written to: models/rnn/rnn_checkpoint/assets\n"
     ]
    },
    {
     "name": "stderr",
     "output_type": "stream",
     "text": [
      "INFO:tensorflow:Assets written to: models/rnn/rnn_checkpoint/assets\n"
     ]
    },
    {
     "name": "stdout",
     "output_type": "stream",
     "text": [
      "23/23 - 96s - loss: 0.3041 - binary_accuracy: 0.8761 - val_loss: 0.3553 - val_binary_accuracy: 0.8482 - lr: 1.0000e-04 - 96s/epoch - 4s/step\n",
      "Epoch 11/40\n",
      "\n",
      "Epoch 11: val_loss did not improve from 0.35527\n",
      "23/23 - 61s - loss: 0.2924 - binary_accuracy: 0.8815 - val_loss: 0.3566 - val_binary_accuracy: 0.8446 - lr: 1.0000e-04 - 61s/epoch - 3s/step\n",
      "Epoch 12/40\n",
      "\n",
      "Epoch 12: val_loss improved from 0.35527 to 0.34429, saving model to models/rnn/rnn_checkpoint\n"
     ]
    },
    {
     "name": "stderr",
     "output_type": "stream",
     "text": [
      "WARNING:absl:Found untraced functions such as gru_cell_37_layer_call_fn, gru_cell_37_layer_call_and_return_conditional_losses, gru_cell_38_layer_call_fn, gru_cell_38_layer_call_and_return_conditional_losses, gru_cell_40_layer_call_fn while saving (showing 5 of 12). These functions will not be directly callable after loading.\n"
     ]
    },
    {
     "name": "stdout",
     "output_type": "stream",
     "text": [
      "INFO:tensorflow:Assets written to: models/rnn/rnn_checkpoint/assets\n"
     ]
    },
    {
     "name": "stderr",
     "output_type": "stream",
     "text": [
      "INFO:tensorflow:Assets written to: models/rnn/rnn_checkpoint/assets\n"
     ]
    },
    {
     "name": "stdout",
     "output_type": "stream",
     "text": [
      "23/23 - 88s - loss: 0.2850 - binary_accuracy: 0.8868 - val_loss: 0.3443 - val_binary_accuracy: 0.8498 - lr: 1.0000e-04 - 88s/epoch - 4s/step\n",
      "Epoch 13/40\n",
      "\n",
      "Epoch 13: val_loss improved from 0.34429 to 0.34315, saving model to models/rnn/rnn_checkpoint\n"
     ]
    },
    {
     "name": "stderr",
     "output_type": "stream",
     "text": [
      "WARNING:absl:Found untraced functions such as gru_cell_37_layer_call_fn, gru_cell_37_layer_call_and_return_conditional_losses, gru_cell_38_layer_call_fn, gru_cell_38_layer_call_and_return_conditional_losses, gru_cell_40_layer_call_fn while saving (showing 5 of 12). These functions will not be directly callable after loading.\n"
     ]
    },
    {
     "name": "stdout",
     "output_type": "stream",
     "text": [
      "INFO:tensorflow:Assets written to: models/rnn/rnn_checkpoint/assets\n"
     ]
    },
    {
     "name": "stderr",
     "output_type": "stream",
     "text": [
      "INFO:tensorflow:Assets written to: models/rnn/rnn_checkpoint/assets\n"
     ]
    },
    {
     "name": "stdout",
     "output_type": "stream",
     "text": [
      "23/23 - 93s - loss: 0.2701 - binary_accuracy: 0.8941 - val_loss: 0.3432 - val_binary_accuracy: 0.8570 - lr: 1.0000e-04 - 93s/epoch - 4s/step\n",
      "Epoch 14/40\n",
      "\n",
      "Epoch 14: val_loss did not improve from 0.34315\n",
      "23/23 - 60s - loss: 0.2589 - binary_accuracy: 0.8970 - val_loss: 0.3563 - val_binary_accuracy: 0.8521 - lr: 1.0000e-04 - 60s/epoch - 3s/step\n",
      "Epoch 15/40\n",
      "\n",
      "Epoch 15: val_loss improved from 0.34315 to 0.33578, saving model to models/rnn/rnn_checkpoint\n"
     ]
    },
    {
     "name": "stderr",
     "output_type": "stream",
     "text": [
      "WARNING:absl:Found untraced functions such as gru_cell_37_layer_call_fn, gru_cell_37_layer_call_and_return_conditional_losses, gru_cell_38_layer_call_fn, gru_cell_38_layer_call_and_return_conditional_losses, gru_cell_40_layer_call_fn while saving (showing 5 of 12). These functions will not be directly callable after loading.\n"
     ]
    },
    {
     "name": "stdout",
     "output_type": "stream",
     "text": [
      "INFO:tensorflow:Assets written to: models/rnn/rnn_checkpoint/assets\n"
     ]
    },
    {
     "name": "stderr",
     "output_type": "stream",
     "text": [
      "INFO:tensorflow:Assets written to: models/rnn/rnn_checkpoint/assets\n"
     ]
    },
    {
     "name": "stdout",
     "output_type": "stream",
     "text": [
      "23/23 - 86s - loss: 0.2500 - binary_accuracy: 0.9026 - val_loss: 0.3358 - val_binary_accuracy: 0.8613 - lr: 1.0000e-04 - 86s/epoch - 4s/step\n",
      "Epoch 16/40\n",
      "\n",
      "Epoch 16: val_loss did not improve from 0.33578\n",
      "23/23 - 57s - loss: 0.2370 - binary_accuracy: 0.9089 - val_loss: 0.3475 - val_binary_accuracy: 0.8525 - lr: 1.0000e-04 - 57s/epoch - 2s/step\n",
      "Epoch 17/40\n",
      "\n",
      "Epoch 17: val_loss did not improve from 0.33578\n",
      "23/23 - 59s - loss: 0.2293 - binary_accuracy: 0.9130 - val_loss: 0.3472 - val_binary_accuracy: 0.8577 - lr: 1.0000e-04 - 59s/epoch - 3s/step\n",
      "Epoch 18/40\n",
      "\n",
      "Epoch 18: val_loss did not improve from 0.33578\n",
      "23/23 - 61s - loss: 0.2206 - binary_accuracy: 0.9165 - val_loss: 0.3372 - val_binary_accuracy: 0.8593 - lr: 1.0000e-04 - 61s/epoch - 3s/step\n",
      "Epoch 19/40\n",
      "\n",
      "Epoch 19: val_loss improved from 0.33578 to 0.33200, saving model to models/rnn/rnn_checkpoint\n"
     ]
    },
    {
     "name": "stderr",
     "output_type": "stream",
     "text": [
      "WARNING:absl:Found untraced functions such as gru_cell_37_layer_call_fn, gru_cell_37_layer_call_and_return_conditional_losses, gru_cell_38_layer_call_fn, gru_cell_38_layer_call_and_return_conditional_losses, gru_cell_40_layer_call_fn while saving (showing 5 of 12). These functions will not be directly callable after loading.\n"
     ]
    },
    {
     "name": "stdout",
     "output_type": "stream",
     "text": [
      "INFO:tensorflow:Assets written to: models/rnn/rnn_checkpoint/assets\n"
     ]
    },
    {
     "name": "stderr",
     "output_type": "stream",
     "text": [
      "INFO:tensorflow:Assets written to: models/rnn/rnn_checkpoint/assets\n"
     ]
    },
    {
     "name": "stdout",
     "output_type": "stream",
     "text": [
      "23/23 - 90s - loss: 0.2025 - binary_accuracy: 0.9255 - val_loss: 0.3320 - val_binary_accuracy: 0.8610 - lr: 1.0000e-05 - 90s/epoch - 4s/step\n",
      "Epoch 20/40\n",
      "\n",
      "Epoch 20: val_loss did not improve from 0.33200\n",
      "23/23 - 58s - loss: 0.1997 - binary_accuracy: 0.9262 - val_loss: 0.3329 - val_binary_accuracy: 0.8620 - lr: 1.0000e-05 - 58s/epoch - 3s/step\n",
      "Epoch 21/40\n",
      "\n",
      "Epoch 21: val_loss did not improve from 0.33200\n",
      "23/23 - 61s - loss: 0.1984 - binary_accuracy: 0.9274 - val_loss: 0.3353 - val_binary_accuracy: 0.8623 - lr: 1.0000e-05 - 61s/epoch - 3s/step\n",
      "Epoch 22/40\n",
      "\n",
      "Epoch 22: val_loss did not improve from 0.33200\n",
      "23/23 - 65s - loss: 0.1970 - binary_accuracy: 0.9286 - val_loss: 0.3370 - val_binary_accuracy: 0.8620 - lr: 1.0000e-05 - 65s/epoch - 3s/step\n",
      "Epoch 23/40\n",
      "\n",
      "Epoch 23: val_loss did not improve from 0.33200\n",
      "23/23 - 65s - loss: 0.1957 - binary_accuracy: 0.9284 - val_loss: 0.3337 - val_binary_accuracy: 0.8616 - lr: 1.0000e-06 - 65s/epoch - 3s/step\n",
      "Epoch 24/40\n",
      "\n",
      "Epoch 24: val_loss improved from 0.33200 to 0.33164, saving model to models/rnn/rnn_checkpoint\n"
     ]
    },
    {
     "name": "stderr",
     "output_type": "stream",
     "text": [
      "WARNING:absl:Found untraced functions such as gru_cell_37_layer_call_fn, gru_cell_37_layer_call_and_return_conditional_losses, gru_cell_38_layer_call_fn, gru_cell_38_layer_call_and_return_conditional_losses, gru_cell_40_layer_call_fn while saving (showing 5 of 12). These functions will not be directly callable after loading.\n"
     ]
    },
    {
     "name": "stdout",
     "output_type": "stream",
     "text": [
      "INFO:tensorflow:Assets written to: models/rnn/rnn_checkpoint/assets\n"
     ]
    },
    {
     "name": "stderr",
     "output_type": "stream",
     "text": [
      "INFO:tensorflow:Assets written to: models/rnn/rnn_checkpoint/assets\n"
     ]
    },
    {
     "name": "stdout",
     "output_type": "stream",
     "text": [
      "23/23 - 92s - loss: 0.1945 - binary_accuracy: 0.9290 - val_loss: 0.3316 - val_binary_accuracy: 0.8620 - lr: 1.0000e-06 - 92s/epoch - 4s/step\n",
      "Epoch 25/40\n",
      "\n",
      "Epoch 25: val_loss improved from 0.33164 to 0.33124, saving model to models/rnn/rnn_checkpoint\n"
     ]
    },
    {
     "name": "stderr",
     "output_type": "stream",
     "text": [
      "WARNING:absl:Found untraced functions such as gru_cell_37_layer_call_fn, gru_cell_37_layer_call_and_return_conditional_losses, gru_cell_38_layer_call_fn, gru_cell_38_layer_call_and_return_conditional_losses, gru_cell_40_layer_call_fn while saving (showing 5 of 12). These functions will not be directly callable after loading.\n"
     ]
    },
    {
     "name": "stdout",
     "output_type": "stream",
     "text": [
      "INFO:tensorflow:Assets written to: models/rnn/rnn_checkpoint/assets\n"
     ]
    },
    {
     "name": "stderr",
     "output_type": "stream",
     "text": [
      "INFO:tensorflow:Assets written to: models/rnn/rnn_checkpoint/assets\n"
     ]
    },
    {
     "name": "stdout",
     "output_type": "stream",
     "text": [
      "23/23 - 93s - loss: 0.1945 - binary_accuracy: 0.9299 - val_loss: 0.3312 - val_binary_accuracy: 0.8623 - lr: 1.0000e-06 - 93s/epoch - 4s/step\n",
      "Epoch 26/40\n",
      "\n",
      "Epoch 26: val_loss did not improve from 0.33124\n",
      "23/23 - 58s - loss: 0.1943 - binary_accuracy: 0.9301 - val_loss: 0.3314 - val_binary_accuracy: 0.8633 - lr: 1.0000e-06 - 58s/epoch - 3s/step\n",
      "Epoch 27/40\n",
      "\n",
      "Epoch 27: val_loss did not improve from 0.33124\n",
      "23/23 - 61s - loss: 0.1941 - binary_accuracy: 0.9296 - val_loss: 0.3319 - val_binary_accuracy: 0.8623 - lr: 1.0000e-06 - 61s/epoch - 3s/step\n",
      "Epoch 28/40\n",
      "\n",
      "Epoch 28: val_loss did not improve from 0.33124\n",
      "23/23 - 62s - loss: 0.1940 - binary_accuracy: 0.9295 - val_loss: 0.3315 - val_binary_accuracy: 0.8623 - lr: 1.0000e-06 - 62s/epoch - 3s/step\n",
      "Epoch 29/40\n",
      "\n",
      "Epoch 29: val_loss did not improve from 0.33124\n",
      "23/23 - 64s - loss: 0.1938 - binary_accuracy: 0.9295 - val_loss: 0.3315 - val_binary_accuracy: 0.8623 - lr: 1.0000e-07 - 64s/epoch - 3s/step\n",
      "Epoch 30/40\n",
      "\n",
      "Epoch 30: val_loss did not improve from 0.33124\n",
      "Restoring model weights from the end of the best epoch: 25.\n",
      "23/23 - 66s - loss: 0.1939 - binary_accuracy: 0.9290 - val_loss: 0.3316 - val_binary_accuracy: 0.8623 - lr: 1.0000e-07 - 66s/epoch - 3s/step\n",
      "Epoch 30: early stopping\n"
     ]
    }
   ],
   "source": [
    "# read in the config\n",
    "pp_config = utils.get_config('preprocess')\n",
    "\n",
    "n_mels = pp_config['melspectogram']['n_mels']\n",
    "mel_train = mel_train.reshape(mel_train.shape[0], -1, n_mels)\n",
    "mel_val   = mel_val.reshape(mel_val.shape[0], -1, n_mels)\n",
    "\n",
    "model = rnn_model(config['model_structure'], n_classes=len(labels_to_id))\n",
    "\n",
    "history = model.fit(\n",
    "        x=mel_train,\n",
    "        y=lab_train,\n",
    "        validation_data=(mel_val, lab_val),\n",
    "        batch_size=batch_size,\n",
    "        epochs=epochs,\n",
    "        callbacks=[checkpoint, lr_reducing_on_platteau, early_stopping],\n",
    "        use_multiprocessing=True,\n",
    "        verbose=2\n",
    "    )\n"
   ]
  },
  {
   "cell_type": "code",
   "execution_count": 33,
   "metadata": {},
   "outputs": [
    {
     "name": "stderr",
     "output_type": "stream",
     "text": [
      "WARNING:absl:Found untraced functions such as gru_cell_37_layer_call_fn, gru_cell_37_layer_call_and_return_conditional_losses, gru_cell_38_layer_call_fn, gru_cell_38_layer_call_and_return_conditional_losses, gru_cell_40_layer_call_fn while saving (showing 5 of 12). These functions will not be directly callable after loading.\n"
     ]
    },
    {
     "name": "stdout",
     "output_type": "stream",
     "text": [
      "INFO:tensorflow:Assets written to: models/rnn/rnn_trained/assets\n"
     ]
    },
    {
     "name": "stderr",
     "output_type": "stream",
     "text": [
      "INFO:tensorflow:Assets written to: models/rnn/rnn_trained/assets\n"
     ]
    }
   ],
   "source": [
    "from lib_util import utils\n",
    "\n",
    "to_dump = {\n",
    "    'model': model,\n",
    "    'history': history.history,\n",
    "    'config': config\n",
    "}\n",
    "\n",
    "utils.save_training(to_dump, model_name, dir=config['output_dir'])"
   ]
  },
  {
   "cell_type": "code",
   "execution_count": 35,
   "metadata": {},
   "outputs": [
    {
     "data": {
      "image/png": "[encoded data removed]",
      "text/plain": [
       "<Figure size 640x480 with 1 Axes>"
      ]
     },
     "metadata": {},
     "output_type": "display_data"
    },
    {
     "data": {
      "image/png": "[encoded data removed]",
      "text/plain": [
       "<Figure size 640x480 with 1 Axes>"
      ]
     },
     "metadata": {},
     "output_type": "display_data"
    }
   ],
   "source": [
    "history = utils.load_history(model_name, dir=config['output_dir'])\n",
    "model_name = config['model_name']\n",
    "\n",
    "#Plots for the accuracies and losses of the train and validation data per epoch\n",
    "plot.plot_hist(history, ('binary_accuracy', 'val_binary_accuracy'), legends=('train', 'validation'), title='Accuracy', y_label='accuracy ->', x_label='epochs ->', save_to=f'Plots/{model_name}_{epochs}_accuracy')\n",
    "plot.plot_hist(history, ('loss', 'val_loss'), legends=('train', 'validation'), title='Loss', y_label='loss ->', x_label='epochs ->', save_to=f'Plots/{model_name}_{epochs}_loss')"
   ]
  },
  {
   "cell_type": "code",
   "execution_count": 36,
   "metadata": {},
   "outputs": [
    {
     "name": "stdout",
     "output_type": "stream",
     "text": [
      "89/89 [==============================] - 22s 223ms/step\n",
      "ACCURACY FOR TRAIN SET 83.6670 %\n",
      "MACRO F1 SCORE FOR TRAIN SET 81.9216 %\n",
      "MICRO F1 SCORE FOR TRAIN SET 83.6670 %\n",
      "WEIGHTED F1 SCORE FOR TRAIN SET 83.3228 %\n",
      "20/20 [==============================] - 4s 209ms/step\n",
      "ACCURACY FOR VAL SET 62.9508 %\n",
      "MACRO F1 SCORE FOR VAL SET 60.4192 %\n",
      "MICRO F1 SCORE FOR VAL SET 62.9508 %\n",
      "WEIGHTED F1 SCORE FOR TRAIN SET 62.2888 %\n",
      "20/20 [==============================] - 4s 211ms/step\n",
      "ACCURACY FOR TEST SET 66.9394 %\n",
      "MACRO F1 SCORE FOR TEST SET 63.4214 %\n",
      "MICRO F1 SCORE FOR TEST SET 66.9394 %\n",
      "WEIGHTED F1 SCORE FOR TEST SET 66.2035 %\n"
     ]
    }
   ],
   "source": [
    "predict = lambda model, data: np.argmax(model.predict(data), axis=-1)\n",
    "\n",
    "mel_test = mel_test.reshape(mel_test.shape[0], -1, n_mels)\n",
    "\n",
    "#Loading in the model\n",
    "model = utils.load_model(model_name, dir=config['output_dir'])\n",
    "\n",
    "# Training prediction\n",
    "y_pred_train = predict(model, mel_train)\n",
    "y_true_train = np.argmax(lab_train, axis= -1)\n",
    "print(f\"ACCURACY FOR TRAIN SET {accuracy_score(y_true_train, y_pred_train)*100:.4f} %\")\n",
    "print(f\"MACRO F1 SCORE FOR TRAIN SET {f1_score(y_true_train, y_pred_train, average='macro')*100:.4f} %\")\n",
    "print(f\"MICRO F1 SCORE FOR TRAIN SET {f1_score(y_true_train, y_pred_train, average='micro')*100:.4f} %\")\n",
    "print(f\"WEIGHTED F1 SCORE FOR TRAIN SET {f1_score(y_true_train, y_pred_train, average='weighted')*100:.4f} %\")\n",
    "\n",
    "\n",
    "# Validation prediction\n",
    "y_pred_val = predict(model, mel_val)\n",
    "y_true_val = np.argmax(lab_val, axis= -1)\n",
    "print(f\"ACCURACY FOR VAL SET {accuracy_score(y_true_val, y_pred_val)*100:.4f} %\")\n",
    "print(f\"MACRO F1 SCORE FOR VAL SET {f1_score(y_true_val, y_pred_val, average='macro')*100:.4f} %\")\n",
    "print(f\"MICRO F1 SCORE FOR VAL SET {f1_score(y_true_val, y_pred_val, average='micro')*100:.4f} %\")\n",
    "print(f\"WEIGHTED F1 SCORE FOR TRAIN SET {f1_score(y_true_val, y_pred_val, average='weighted')*100:.4f} %\")\n",
    "\n",
    "\n",
    "# Test prediction\n",
    "y_pred_test = predict(model, mel_test)\n",
    "y_true_test = np.argmax(lab_test, axis= -1)\n",
    "print(f\"ACCURACY FOR TEST SET {accuracy_score(y_true_test, y_pred_test)*100:.4f} %\")\n",
    "print(f\"MACRO F1 SCORE FOR TEST SET {f1_score(y_true_test, y_pred_test, average='macro')*100:.4f} %\")\n",
    "print(f\"MICRO F1 SCORE FOR TEST SET {f1_score(y_true_test, y_pred_test, average='micro')*100:.4f} %\")\n",
    "print(f\"WEIGHTED F1 SCORE FOR TEST SET {f1_score(y_true_test, y_pred_test, average='weighted')*100:.4f} %\")"
   ]
  },
  {
   "cell_type": "code",
   "execution_count": 37,
   "metadata": {},
   "outputs": [
    {
     "data": {
      "image/png": "[encoded data removed]",
      "text/plain": [
       "<Figure size 700x600 with 2 Axes>"
      ]
     },
     "metadata": {},
     "output_type": "display_data"
    }
   ],
   "source": [
    "class_names = utils.get_class_names()\n",
    "\n",
    "#Confusion matrix of the predicted labels versus the true labels\n",
    "conf_mat = confusion_matrix(y_true_test, y_pred_test, normalize= 'true')\n",
    "conf_mat = np.round(conf_mat, 2)\n",
    "\n",
    "conf_mat_df = pd.DataFrame(conf_mat, columns=class_names, index=class_names)\n",
    "\n",
    "plot.plot_conf_mat(conf_mat_df, save_to=f\"Plots/{model_name}_{epochs}_test_conf_mat.png\", name=model_name, set_type='test')"
   ]
  }
 ],
 "metadata": {
  "kernelspec": {
   "display_name": "ai-industry",
   "language": "python",
   "name": "python3"
  },
  "language_info": {
   "codemirror_mode": {
    "name": "ipython",
    "version": 3
   },
   "file_extension": ".py",
   "mimetype": "text/x-python",
   "name": "python",
   "nbconvert_exporter": "python",
   "pygments_lexer": "ipython3",
   "version": "3.9.15"
  },
  "orig_nbformat": 4,
  "vscode": {
   "interpreter": {
    "hash": "ca8db3ad7877ac29be891f762e2f8f2bd0b14f50820e5ea7ad73e7636a7ffe5d"
   }
  }
 },
 "nbformat": 4,
 "nbformat_minor": 2
}
