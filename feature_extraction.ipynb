{
 "cells": [
  {
   "cell_type": "code",
   "execution_count": 15,
   "metadata": {},
   "outputs": [
    {
     "name": "stdout",
     "output_type": "stream",
     "text": [
      "The autoreload extension is already loaded. To reload it, use:\n",
      "  %reload_ext autoreload\n"
     ]
    }
   ],
   "source": [
    "import audio_functions as af\n",
    "from audio_file_iterator import iter as audio_file_iterator\n",
    "import soundfile as sf\n",
    "import pandas as pd\n",
    "import numpy as np\n",
    "import os\n",
    "import librosa\n",
    "import librosa.feature\n",
    "from tqdm import tqdm\n",
    "from random import randint\n",
    "import plot\n",
    "\n",
    "%load_ext autoreload\n",
    "%autoreload 2\n",
    "%matplotlib inline"
   ]
  },
  {
   "cell_type": "markdown",
   "metadata": {},
   "source": [
    "# Preprocessing of the audio files\n",
    "Perform some steps to preprocess audio files and convert them into a feature vector\n",
    "## Preprocess converted WAV files\n",
    "### Read in the audio data from the directory structure\n",
    "read in the data and store the audio content together with the directory path to save the information of the associatated class label"
   ]
  },
  {
   "cell_type": "code",
   "execution_count": 2,
   "metadata": {
    "collapsed": false
   },
   "outputs": [
    {
     "name": "stdout",
     "output_type": "stream",
     "text": [
      "Processing genre directory '09 Disco Funk'\n",
      "   Processed 298 files          \n",
      "Processing genre directory '12 Chinese Traditional'\n",
      "   Processed 300 files          \n",
      "Processing genre directory '15 Reggaeton Pop'\n",
      "   Processed 322 files          \n",
      "Processing genre directory '06 Deep House'\n",
      "   Processed 360 files          \n",
      "Processing genre directory 'Keyboard Collection'\n",
      "   Processed 164 files          \n"
     ]
    }
   ],
   "source": [
    "loaded_audio_files, dirs = zip(*[ (sf.read(audio_file_name, dtype='float32'), os.path.dirname(audio_file_name)) for audio_file_name in audio_file_iterator()])"
   ]
  },
  {
   "cell_type": "markdown",
   "metadata": {},
   "source": [
    "## One Hot Encoding\n",
    "Get the directory names form the data folder, which are used to identify the name of the classes and encode the feature labels using a One-Hot-Encoding."
   ]
  },
  {
   "cell_type": "code",
   "execution_count": 3,
   "metadata": {},
   "outputs": [
    {
     "name": "stdout",
     "output_type": "stream",
     "text": [
      "Categories (5):\n",
      "    wav_data/06 Deep House\n",
      "    wav_data/09 Disco Funk\n",
      "    wav_data/12 Chinese Traditional\n",
      "    wav_data/15 Reggaeton Pop\n",
      "    wav_data/Keyboard Collection\n"
     ]
    }
   ],
   "source": [
    "from sklearn.preprocessing import OneHotEncoder\n",
    "\n",
    "class_idx = 0\n",
    "# remove leading directory name\n",
    "sliced_dir_names = list(map(lambda s: s.replace('wav_data\\\\', ''), dirs))\n",
    "\n",
    "ohe = OneHotEncoder()\n",
    "ohe_labels = ohe.fit_transform(np.array(sliced_dir_names).reshape(-1, 1))\n",
    "\n",
    "cats = ohe.categories_[0]\n",
    "print(\"Categories ({n}):\".format(n=len(cats)))\n",
    "[print(\"   \", cat) for cat in cats]\n",
    "\n",
    "ohe_labels_array = ohe_labels.toarray()"
   ]
  },
  {
   "cell_type": "markdown",
   "metadata": {},
   "source": [
    "Save the label vector and the class mapping to seperate files"
   ]
  },
  {
   "cell_type": "markdown",
   "metadata": {},
   "source": [
    "### perform sequential several preprocessing steps\n",
    " - slice audio to 3s unit length snippets (zero-padded if shorter)\n",
    " - convert track to mono audio\n",
    " - downsample audio files to 4kBit\n",
    "\n",
    "First, all samples are cut into a unit time length and stored in a list of tuples, where each list elements is a tuple, consisting of a 3-second audio snippet and its samplerate"
   ]
  },
  {
   "cell_type": "code",
   "execution_count": 4,
   "metadata": {},
   "outputs": [],
   "source": [
    "unit_length = 3000\n",
    "downsample_rate = 4000"
   ]
  },
  {
   "cell_type": "code",
   "execution_count": 5,
   "metadata": {},
   "outputs": [
    {
     "name": "stderr",
     "output_type": "stream",
     "text": [
      "1444it [00:01, 786.59it/s] "
     ]
    },
    {
     "name": "stdout",
     "output_type": "stream",
     "text": [
      "Number of unit length samples: 4068\n"
     ]
    },
    {
     "name": "stderr",
     "output_type": "stream",
     "text": [
      "\n"
     ]
    }
   ],
   "source": [
    "to_multi_slices = lambda t: (af.multi_slice_to_length(t[0], t[1], unit_length), t[1])\n",
    "\n",
    "unit_length_audio = tqdm(map(to_multi_slices, loaded_audio_files))\n",
    "\n",
    "unit_length_audio, sr = zip(*unit_length_audio)\n",
    "\n",
    "appended_slice_lengths = [len(u) for u in unit_length_audio]\n",
    "\n",
    "unit_length_audio = [item for sublist in unit_length_audio for item in sublist]\n",
    "\n",
    "print(\"Number of unit length samples:\", len(unit_length_audio))\n",
    "\n",
    "assert sum(appended_slice_lengths) == len(unit_length_audio)"
   ]
  },
  {
   "cell_type": "markdown",
   "metadata": {},
   "source": [
    "Append the label vector according to the appended features  \n",
    "Since some of the features has been duplicated because of the slicing to unit length, so the label vector has to be extended too"
   ]
  },
  {
   "cell_type": "code",
   "execution_count": 6,
   "metadata": {},
   "outputs": [
    {
     "name": "stdout",
     "output_type": "stream",
     "text": [
      "4068\n"
     ]
    }
   ],
   "source": [
    "ohe_labels_array_extended = ohe_labels_array\n",
    "\n",
    "offset = 0\n",
    "\n",
    "for idx, append_size in enumerate(appended_slice_lengths):\n",
    "    if append_size == 1:\n",
    "        continue\n",
    "    to_insert = np.tile(ohe_labels_array[idx, :], (append_size-1, 1))\n",
    "    ohe_labels_array_extended = np.insert(ohe_labels_array_extended, idx+1+offset, to_insert, axis=0)\n",
    "    offset += append_size-1\n",
    "\n",
    "print(ohe_labels_array_extended.shape[0])\n",
    "assert sum(appended_slice_lengths) == ohe_labels_array_extended.shape[0]"
   ]
  },
  {
   "cell_type": "markdown",
   "metadata": {},
   "source": [
    "Save extended label vector and the category mapping"
   ]
  },
  {
   "cell_type": "code",
   "execution_count": 7,
   "metadata": {},
   "outputs": [],
   "source": [
    "import json\n",
    "\n",
    "np.save('data/labels.npy', ohe_labels_array_extended)\n",
    "\n",
    "cats_dict = {}\n",
    "for i, c in enumerate(cats):\n",
    "    cats_dict[c.removeprefix('wav_data/')] = i\n",
    "\n",
    "with open('data/class_label_index_mapping.json', 'w') as f:\n",
    "    json.dump(cats_dict, f, indent=4)"
   ]
  },
  {
   "cell_type": "markdown",
   "metadata": {},
   "source": [
    "define and prepare preprocessing steps with the corresponding parameters:"
   ]
  },
  {
   "cell_type": "code",
   "execution_count": 26,
   "metadata": {},
   "outputs": [],
   "source": [
    "to_mono = lambda t : (af.to_mono_channel(t[0]), t[1])\n",
    "resample = lambda t : (af.resample(t[0], t[1], downsample_rate), t[1])\n",
    "\n",
    "preprocessing_steps = [\n",
    "    to_mono,\n",
    "    resample\n",
    "]\n",
    "\n",
    "features_preprocessed = unit_length_audio\n",
    "for step in preprocessing_steps:\n",
    "    features_preprocessed = map(step, features_preprocessed)"
   ]
  },
  {
   "cell_type": "markdown",
   "metadata": {},
   "source": [
    "perform preprocessing from generator-pipline and extract the features as an numpy-array"
   ]
  },
  {
   "cell_type": "code",
   "execution_count": null,
   "metadata": {},
   "outputs": [],
   "source": [
    "features, _ = zip(*tqdm(features_preprocessed))\n",
    "feature_array = np.vstack(features)"
   ]
  },
  {
   "cell_type": "markdown",
   "metadata": {},
   "source": [
    "### Store the data\n",
    "Save the data in numpy format  \n",
    "Summary:\n",
    "- samples of 3 seconds length\n",
    "- sample rate of 4kHz\n",
    "- mono audio\n",
    "- samples whose length was above 3 seconds were sliced into multiple snippets, with the last snippet being zero-padded in the end "
   ]
  },
  {
   "cell_type": "code",
   "execution_count": 9,
   "metadata": {},
   "outputs": [
    {
     "name": "stdout",
     "output_type": "stream",
     "text": [
      "Feature array uses 186.22 MB of disc space\n",
      "Saved file to slices preprocessed_data\n",
      "   saved slice 1 to  preprocessed_data_1\n",
      "   saved slice 2 to  preprocessed_data_2\n",
      "   saved slice 3 to  preprocessed_data_3\n"
     ]
    }
   ],
   "source": [
    "from save_utils import save_numpy_array_sliced\n",
    "\n",
    "print(\"Feature array uses {s:.2f} MB of disc space\".format(s=feature_array.nbytes/1024/1024))\n",
    "\n",
    "save_numpy_array_sliced('preprocessed_data', feature_array)"
   ]
  },
  {
   "cell_type": "markdown",
   "metadata": {},
   "source": [
    "### Validation  \n",
    "Load the file with the stored feature arrays"
   ]
  },
  {
   "cell_type": "code",
   "execution_count": 10,
   "metadata": {},
   "outputs": [
    {
     "name": "stdout",
     "output_type": "stream",
     "text": [
      "Loaded 3 files:\n",
      "    preprocessed_data_1.npy\n",
      "    preprocessed_data_2.npy\n",
      "    preprocessed_data_3.npy\n",
      "(4068, 12000)\n"
     ]
    }
   ],
   "source": [
    "from save_utils import load_sliced_numpy_array\n",
    "\n",
    "feature_array = load_sliced_numpy_array('preprocessed_data')\n",
    "\n",
    "print(feature_array.shape)"
   ]
  },
  {
   "cell_type": "markdown",
   "metadata": {},
   "source": [
    "Plot a random example of a waveform from the preprocessed data to verify the preprocessing steps  \n",
    "The saved data are laoded before"
   ]
  },
  {
   "cell_type": "code",
   "execution_count": 29,
   "metadata": {},
   "outputs": [
    {
     "name": "stdout",
     "output_type": "stream",
     "text": [
      "Plot audio sample 3584\n",
      "Dimensions: (12000,)\n"
     ]
    },
    {
     "data": {
      "image/png": "[encoded data removed]",
      "text/plain": [
       "<Figure size 1400x500 with 1 Axes>"
      ]
     },
     "metadata": {},
     "output_type": "display_data"
    }
   ],
   "source": [
    "x = randint(0, len(feature_array)-1)\n",
    "random_feature = feature_array[x, :]\n",
    "\n",
    "print(\"Plot audio sample\", x)\n",
    "plot.plot_waveform(random_feature, downsample_rate)\n",
    "\n",
    "print(\"Dimensions:\", random_feature.shape)\n",
    "\n",
    "# Check for correct sample rate, length and for mono-track\n",
    "assert random_feature.shape[0] == unit_length*downsample_rate/1000 and len(random_feature.shape) == 1"
   ]
  },
  {
   "cell_type": "markdown",
   "metadata": {},
   "source": [
    "## Compute the melspectogram from the features"
   ]
  },
  {
   "cell_type": "code",
   "execution_count": 8,
   "metadata": {},
   "outputs": [
    {
     "name": "stdout",
     "output_type": "stream",
     "text": [
      "Convert to mono lenght\n"
     ]
    },
    {
     "name": "stderr",
     "output_type": "stream",
     "text": [
      "4068it [00:11, 340.19it/s]\n"
     ]
    },
    {
     "name": "stdout",
     "output_type": "stream",
     "text": [
      "Stack to a single matrix\n",
      "(4068, 132300)\n"
     ]
    }
   ],
   "source": [
    "to_mono = lambda t : (af.to_mono_channel(t[0]), t[1])\n",
    "\n",
    "print(\"Convert to mono lenght\")\n",
    "mono_unit_length_audio, s_rates = zip(*tqdm(map(to_mono, unit_length_audio)))\n",
    "print(\"Stack to a single matrix\")\n",
    "mono_unit_length_audio_array = np.vstack(mono_unit_length_audio)\n",
    "\n",
    "print(mono_unit_length_audio_array.shape)"
   ]
  },
  {
   "cell_type": "code",
   "execution_count": 10,
   "metadata": {
    "collapsed": false,
    "pycharm": {
     "is_executing": true
    }
   },
   "outputs": [
    {
     "name": "stdout",
     "output_type": "stream",
     "text": [
      "Compute the melspectogram\n"
     ]
    },
    {
     "name": "stderr",
     "output_type": "stream",
     "text": [
      "4068it [00:25, 159.00it/s]\n"
     ]
    },
    {
     "name": "stdout",
     "output_type": "stream",
     "text": [
      "Stack to a single matrix\n",
      "Shape of the feature vector: (4068, 8288)\n"
     ]
    }
   ],
   "source": [
    "sample_rate = s_rates[0]\n",
    "n_mels = 32\n",
    "f_max = sample_rate/2\n",
    "hop_length = 512\n",
    "\n",
    "get_melspectogram = lambda t: librosa.power_to_db(librosa.feature.melspectrogram(y=t, sr=sample_rate, n_mels=n_mels, fmax=f_max, hop_length=hop_length)).flatten()\n",
    "#get_spectogram_db = lambda t : librosa.power_to_db(np.abs(librosa.feature.melspectrogram(y=t, sr=downsample_rate, n_fft=32, hop_length=256, power=2.0, n_mels=64)))\n",
    "\n",
    "print(\"Compute the melspectogram\")\n",
    "features_spectogram = list(tqdm(map(get_melspectogram, mono_unit_length_audio_array)))\n",
    "\n",
    "print(\"Stack to a single matrix\")\n",
    "features_spectogram = np.vstack(features_spectogram)\n",
    "\n",
    "print(\"Shape of the feature vector:\", features_spectogram.shape)"
   ]
  },
  {
   "cell_type": "markdown",
   "metadata": {},
   "source": [
    "### Save the melspectogram arrays"
   ]
  },
  {
   "cell_type": "code",
   "execution_count": 13,
   "metadata": {},
   "outputs": [
    {
     "name": "stdout",
     "output_type": "stream",
     "text": [
      "Feature array uses 128.61 MB of disc space\n",
      "Saved file to slices melspec_features\n",
      "   saved slice 001 to  melspec_features_001\n",
      "   saved slice 002 to  melspec_features_002\n",
      "   saved slice 003 to  melspec_features_003\n"
     ]
    }
   ],
   "source": [
    "from save_utils import save_numpy_array_sliced\n",
    "\n",
    "print(\"Feature array uses {s:.2f} MB of disc space\".format(s=features_spectogram.nbytes/1024/1024))\n",
    "\n",
    "save_numpy_array_sliced('melspec_features', features_spectogram, max_size_mb=45)"
   ]
  },
  {
   "cell_type": "markdown",
   "metadata": {},
   "source": [
    "### Load and validate\n",
    "Load the melspectogram features and plot an example"
   ]
  },
  {
   "cell_type": "code",
   "execution_count": 17,
   "metadata": {
    "collapsed": false,
    "pycharm": {
     "is_executing": true
    }
   },
   "outputs": [
    {
     "name": "stdout",
     "output_type": "stream",
     "text": [
      "Loaded 3 files:\n",
      "    melspec_features_001.npy\n",
      "    melspec_features_002.npy\n",
      "    melspec_features_003.npy\n"
     ]
    },
    {
     "data": {
      "image/png": "[encoded data removed]",
      "text/plain": [
       "<Figure size 640x480 with 2 Axes>"
      ]
     },
     "metadata": {},
     "output_type": "display_data"
    }
   ],
   "source": [
    "from save_utils import load_sliced_numpy_array\n",
    "from random import randint\n",
    "\n",
    "features_spectogram = load_sliced_numpy_array('melspec_features')\n",
    "\n",
    "x = randint(0, features_spectogram.shape[0]-1)\n",
    "\n",
    "feature_to_plot = features_spectogram[x, :].reshape(n_mels, -1)\n",
    "\n",
    "plot.plot_melspectogram(feature_to_plot, sample_rate, fmax=f_max, calculate_db=False, save_fig=False)"
   ]
  }
 ],
 "metadata": {
  "kernelspec": {
   "display_name": "ai-industry",
   "language": "python",
   "name": "python3"
  },
  "language_info": {
   "codemirror_mode": {
    "name": "ipython",
    "version": 3
   },
   "file_extension": ".py",
   "mimetype": "text/x-python",
   "name": "python",
   "nbconvert_exporter": "python",
   "pygments_lexer": "ipython3",
   "version": "3.9.15"
  },
  "orig_nbformat": 4,
  "vscode": {
   "interpreter": {
    "hash": "ca8db3ad7877ac29be891f762e2f8f2bd0b14f50820e5ea7ad73e7636a7ffe5d"
   }
  }
 },
 "nbformat": 4,
 "nbformat_minor": 2
}
