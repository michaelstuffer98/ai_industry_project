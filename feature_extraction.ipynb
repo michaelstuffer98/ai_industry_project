{
 "cells": [
  {
   "cell_type": "code",
   "execution_count": 15,
   "metadata": {},
   "outputs": [
    {
     "name": "stdout",
     "output_type": "stream",
     "text": [
      "The autoreload extension is already loaded. To reload it, use:\n",
      "  %reload_ext autoreload\n"
     ]
    }
   ],
   "source": [
    "import audio_functions as af\n",
    "from audio_file_iterator import iter as audio_file_iterator\n",
    "import soundfile as sf\n",
    "import pandas as pd\n",
    "import numpy as np\n",
    "import os\n",
    "import librosa\n",
    "import librosa.feature\n",
    "from tqdm import tqdm\n",
    "from random import randint\n",
    "import plot\n",
    "import yaml\n",
    "\n",
    "%load_ext autoreload\n",
    "%autoreload 2\n",
    "%matplotlib inline"
   ]
  },
  {
   "cell_type": "markdown",
   "metadata": {},
   "source": [
    "# Preprocessing of the audio files\n",
    "Perform some steps to preprocess audio files and convert them into a feature vector\n",
    "## Preprocess converted WAV files\n",
    "### Read in the audio data from the directory structure\n",
    "read in the data and store the audio content together with the directory path to save the information of the associatated class label"
   ]
  },
  {
   "cell_type": "code",
   "execution_count": 2,
   "metadata": {
    "collapsed": false
   },
   "outputs": [
    {
     "name": "stdout",
     "output_type": "stream",
     "text": [
      "Processing genre directory '09 Disco Funk'\n",
      "   Processed 298 files          \n",
      "Processing genre directory '12 Chinese Traditional'\n",
      "   Processed 300 files          \n",
      "Processing genre directory '15 Reggaeton Pop'\n",
      "   Processed 322 files          \n",
      "Processing genre directory '06 Deep House'\n",
      "   Processed 360 files          \n",
      "Processing genre directory 'Keyboard Collection'\n",
      "   Processed 164 files          \n"
     ]
    }
   ],
   "source": [
    "loaded_audio_files, dirs = zip(*[ (sf.read(audio_file_name, dtype='float32'), os.path.dirname(audio_file_name)) for audio_file_name in audio_file_iterator()])"
   ]
  },
  {
   "attachments": {},
   "cell_type": "markdown",
   "metadata": {},
   "source": [
    "# Read in config file"
   ]
  },
  {
   "cell_type": "code",
   "execution_count": null,
   "metadata": {},
   "outputs": [],
   "source": [
    "# read in the config\n",
    "with open('preprocess_config.yaml', 'r') as f:\n",
    "    config = yaml.safe_load(f)"
   ]
  },
  {
   "cell_type": "markdown",
   "metadata": {},
   "source": [
    "## One Hot Encoding\n",
    "Get the directory names form the data folder, which are used to identify the name of the classes and encode the feature labels using a One-Hot-Encoding."
   ]
  },
  {
   "cell_type": "code",
   "execution_count": 3,
   "metadata": {},
   "outputs": [
    {
     "name": "stdout",
     "output_type": "stream",
     "text": [
      "Categories (5):\n",
      "    wav_data/06 Deep House\n",
      "    wav_data/09 Disco Funk\n",
      "    wav_data/12 Chinese Traditional\n",
      "    wav_data/15 Reggaeton Pop\n",
      "    wav_data/Keyboard Collection\n"
     ]
    }
   ],
   "source": [
    "from sklearn.preprocessing import OneHotEncoder\n",
    "\n",
    "class_idx = 0\n",
    "# remove leading directory name\n",
    "sliced_dir_names = list(map(lambda s: s.replace('wav_data\\\\', ''), dirs))\n",
    "\n",
    "ohe = OneHotEncoder()\n",
    "ohe_labels = ohe.fit_transform(np.array(sliced_dir_names).reshape(-1, 1))\n",
    "\n",
    "cats = ohe.categories_[0]\n",
    "print(\"Categories ({n}):\".format(n=len(cats)))\n",
    "[print(\"   \", cat) for cat in cats]\n",
    "\n",
    "ohe_labels_array = ohe_labels.toarray()"
   ]
  },
  {
   "cell_type": "markdown",
   "metadata": {},
   "source": [
    "Save the label vector and the class mapping to seperate files"
   ]
  },
  {
   "cell_type": "markdown",
   "metadata": {},
   "source": [
    "### perform sequential several preprocessing steps\n",
    " - slice audio to 3s unit length snippets (zero-padded if shorter)\n",
    " - convert track to mono audio\n",
    " - downsample audio files to 4kBit\n",
    "\n",
    "First, all samples are cut into a unit time length and stored in a list of tuples, where each list elements is a tuple, consisting of a 3-second audio snippet and its samplerate"
   ]
  },
  {
   "cell_type": "code",
   "execution_count": 4,
   "metadata": {},
   "outputs": [],
   "source": [
    "unit_length = config['unit_length_ms']\n",
    "downsample_rate = config['downsample_rate']"
   ]
  },
  {
   "cell_type": "code",
   "execution_count": 5,
   "metadata": {},
   "outputs": [
    {
     "name": "stderr",
     "output_type": "stream",
     "text": [
      "1444it [00:01, 786.59it/s] "
     ]
    },
    {
     "name": "stdout",
     "output_type": "stream",
     "text": [
      "Number of unit length samples: 4068\n"
     ]
    },
    {
     "name": "stderr",
     "output_type": "stream",
     "text": [
      "\n"
     ]
    }
   ],
   "source": [
    "to_multi_slices = lambda t: (af.multi_slice_to_length(t[0], t[1], unit_length), t[1])\n",
    "\n",
    "unit_length_audio = tqdm(map(to_multi_slices, loaded_audio_files))\n",
    "\n",
    "unit_length_audio, sr = zip(*unit_length_audio)\n",
    "\n",
    "appended_slice_lengths = [len(u) for u in unit_length_audio]\n",
    "\n",
    "unit_length_audio = [item for sublist in unit_length_audio for item in sublist]\n",
    "\n",
    "print(\"Number of unit length samples:\", len(unit_length_audio))\n",
    "\n",
    "assert sum(appended_slice_lengths) == len(unit_length_audio)"
   ]
  },
  {
   "cell_type": "markdown",
   "metadata": {},
   "source": [
    "Append the label vector according to the appended features  \n",
    "Since some of the features has been duplicated because of the slicing to unit length, so the label vector has to be extended too"
   ]
  },
  {
   "cell_type": "code",
   "execution_count": 6,
   "metadata": {},
   "outputs": [
    {
     "name": "stdout",
     "output_type": "stream",
     "text": [
      "4068\n"
     ]
    }
   ],
   "source": [
    "ohe_labels_array_extended = ohe_labels_array\n",
    "\n",
    "offset = 0\n",
    "\n",
    "for idx, append_size in enumerate(appended_slice_lengths):\n",
    "    if append_size == 1:\n",
    "        continue\n",
    "    to_insert = np.tile(ohe_labels_array[idx, :], (append_size-1, 1))\n",
    "    ohe_labels_array_extended = np.insert(ohe_labels_array_extended, idx+1+offset, to_insert, axis=0)\n",
    "    offset += append_size-1\n",
    "\n",
    "print(ohe_labels_array_extended.shape[0])\n",
    "assert sum(appended_slice_lengths) == ohe_labels_array_extended.shape[0]"
   ]
  },
  {
   "cell_type": "markdown",
   "metadata": {},
   "source": [
    "Save extended label vector and the category mapping"
   ]
  },
  {
   "cell_type": "code",
   "execution_count": 7,
   "metadata": {},
   "outputs": [],
   "source": [
    "import json\n",
    "\n",
    "np.save('data/labels.npy', ohe_labels_array_extended)\n",
    "\n",
    "cats_dict = {}\n",
    "for i, c in enumerate(cats):\n",
    "    cats_dict[c.removeprefix('wav_data/')] = i\n",
    "\n",
    "with open('data/class_label_index_mapping.json', 'w') as f:\n",
    "    json.dump(cats_dict, f, indent=4)"
   ]
  },
  {
   "cell_type": "markdown",
   "metadata": {},
   "source": [
    "define and prepare preprocessing steps with the corresponding parameters:"
   ]
  },
  {
   "cell_type": "code",
   "execution_count": 26,
   "metadata": {},
   "outputs": [],
   "source": [
    "to_mono = lambda t : (af.to_mono_channel(t[0]), t[1])\n",
    "resample = lambda t : (af.resample(t[0], t[1], downsample_rate), t[1])\n",
    "\n",
    "preprocessing_steps = [\n",
    "    to_mono,\n",
    "    resample\n",
    "]\n",
    "\n",
    "features_preprocessed = unit_length_audio\n",
    "for step in preprocessing_steps:\n",
    "    features_preprocessed = map(step, features_preprocessed)"
   ]
  },
  {
   "cell_type": "markdown",
   "metadata": {},
   "source": [
    "perform preprocessing from generator-pipline and extract the features as an numpy-array"
   ]
  },
  {
   "cell_type": "code",
   "execution_count": null,
   "metadata": {},
   "outputs": [],
   "source": [
    "features, _ = zip(*tqdm(features_preprocessed))\n",
    "feature_array = np.vstack(features)"
   ]
  },
  {
   "cell_type": "markdown",
   "metadata": {},
   "source": [
    "### Store the data\n",
    "Save the data in numpy format  \n",
    "Summary:\n",
    "- samples of 3 seconds length\n",
    "- sample rate of 4kHz\n",
    "- mono audio\n",
    "- samples whose length was above 3 seconds were sliced into multiple snippets, with the last snippet being zero-padded in the end "
   ]
  },
  {
   "cell_type": "code",
   "execution_count": 9,
   "metadata": {},
   "outputs": [
    {
     "name": "stdout",
     "output_type": "stream",
     "text": [
      "Feature array uses 186.22 MB of disc space\n",
      "Saved file to slices preprocessed_data\n",
      "   saved slice 1 to  preprocessed_data_1\n",
      "   saved slice 2 to  preprocessed_data_2\n",
      "   saved slice 3 to  preprocessed_data_3\n"
     ]
    }
   ],
   "source": [
    "from save_utils import save_numpy_array_sliced\n",
    "\n",
    "print(\"Feature array uses {s:.2f} MB of disc space\".format(s=feature_array.nbytes/1024/1024))\n",
    "\n",
    "save_numpy_array_sliced('preprocessed_data', feature_array)"
   ]
  },
  {
   "cell_type": "markdown",
   "metadata": {},
   "source": [
    "### Validation  \n",
    "Load the file with the stored feature arrays"
   ]
  },
  {
   "cell_type": "code",
   "execution_count": 10,
   "metadata": {},
   "outputs": [
    {
     "name": "stdout",
     "output_type": "stream",
     "text": [
      "Loaded 3 files:\n",
      "    preprocessed_data_1.npy\n",
      "    preprocessed_data_2.npy\n",
      "    preprocessed_data_3.npy\n",
      "(4068, 12000)\n"
     ]
    }
   ],
   "source": [
    "from save_utils import load_sliced_numpy_array\n",
    "\n",
    "feature_array = load_sliced_numpy_array('preprocessed_data')\n",
    "\n",
    "print(feature_array.shape)"
   ]
  },
  {
   "cell_type": "markdown",
   "metadata": {},
   "source": [
    "Plot a random example of a waveform from the preprocessed data to verify the preprocessing steps  \n",
    "The saved data are laoded before"
   ]
  },
  {
   "cell_type": "code",
   "execution_count": 29,
   "metadata": {},
   "outputs": [
    {
     "name": "stdout",
     "output_type": "stream",
     "text": [
      "Plot audio sample 3584\n",
      "Dimensions: (12000,)\n"
     ]
    },
    {
     "data": {
      "image/png": "[encoded data removed]",
      "text/plain": [
       "<Figure size 1400x500 with 1 Axes>"
      ]
     },
     "metadata": {},
     "output_type": "display_data"
    }
   ],
   "source": [
    "x = randint(0, len(feature_array)-1)\n",
    "random_feature = feature_array[x, :]\n",
    "\n",
    "print(\"Plot audio sample\", x)\n",
    "plot.plot_waveform(random_feature, downsample_rate)\n",
    "\n",
    "print(\"Dimensions:\", random_feature.shape)\n",
    "\n",
    "# Check for correct sample rate, length and for mono-track\n",
    "assert random_feature.shape[0] == unit_length*downsample_rate/1000 and len(random_feature.shape) == 1"
   ]
  },
  {
   "cell_type": "markdown",
   "metadata": {},
   "source": [
    "## Compute the melspectogram from the features"
   ]
  },
  {
   "cell_type": "code",
   "execution_count": 8,
   "metadata": {},
   "outputs": [
    {
     "name": "stdout",
     "output_type": "stream",
     "text": [
      "Convert to mono lenght\n"
     ]
    },
    {
     "name": "stderr",
     "output_type": "stream",
     "text": [
      "4068it [00:11, 340.19it/s]\n"
     ]
    },
    {
     "name": "stdout",
     "output_type": "stream",
     "text": [
      "Stack to a single matrix\n",
      "(4068, 132300)\n"
     ]
    }
   ],
   "source": [
    "to_mono = lambda t : (af.to_mono_channel(t[0]), t[1])\n",
    "\n",
    "print(\"Convert to mono lenght\")\n",
    "mono_unit_length_audio, s_rates = zip(*tqdm(map(to_mono, unit_length_audio)))\n",
    "print(\"Stack to a single matrix\")\n",
    "mono_unit_length_audio_array = np.vstack(mono_unit_length_audio)\n",
    "\n",
    "print(mono_unit_length_audio_array.shape)"
   ]
  },
  {
   "cell_type": "code",
   "execution_count": 21,
   "metadata": {
    "collapsed": false,
    "pycharm": {
     "is_executing": true
    }
   },
   "outputs": [
    {
     "name": "stdout",
     "output_type": "stream",
     "text": [
      "Compute the melspectogram\n"
     ]
    },
    {
     "name": "stderr",
     "output_type": "stream",
     "text": [
      "4068it [00:36, 111.39it/s]\n"
     ]
    },
    {
     "name": "stdout",
     "output_type": "stream",
     "text": [
      "Stack to a single matrix\n",
      "Shape of the feature vector: (4068, 33152)\n"
     ]
    }
   ],
   "source": [
    "sample_rate = s_rates[0]\n",
    "n_mels = config['melspectogram']['n_mels']\n",
    "f_max = sample_rate/2\n",
    "hop_length = config['melspectogram']['hop_length']\n",
    "\n",
    "get_melspectogram = lambda t: librosa.power_to_db(librosa.feature.melspectrogram(y=t, sr=sample_rate, n_mels=n_mels, fmax=f_max, hop_length=hop_length)).flatten()\n",
    "#get_spectogram_db = lambda t : librosa.power_to_db(np.abs(librosa.feature.melspectrogram(y=t, sr=downsample_rate, n_fft=32, hop_length=256, power=2.0, n_mels=64)))\n",
    "\n",
    "print(\"Compute the melspectogram\")\n",
    "features_spectogram = list(tqdm(map(get_melspectogram, mono_unit_length_audio_array)))\n",
    "\n",
    "print(\"Stack to a single matrix\")\n",
    "features_spectogram = np.vstack(features_spectogram)\n",
    "\n",
    "print(\"Shape of the feature vector:\", features_spectogram.shape)"
   ]
  },
  {
   "cell_type": "markdown",
   "metadata": {},
   "source": [
    "### Save the melspectogram arrays"
   ]
  },
  {
   "cell_type": "code",
   "execution_count": 22,
   "metadata": {},
   "outputs": [
    {
     "name": "stdout",
     "output_type": "stream",
     "text": [
      "Feature array uses 514.46 MB of disc space\n",
      "Saved file to slices melspec_features\n",
      "   saved slice 001 to  melspec_features_001\n",
      "   saved slice 002 to  melspec_features_002\n",
      "   saved slice 003 to  melspec_features_003\n",
      "   saved slice 004 to  melspec_features_004\n",
      "   saved slice 005 to  melspec_features_005\n",
      "   saved slice 006 to  melspec_features_006\n",
      "   saved slice 007 to  melspec_features_007\n",
      "   saved slice 008 to  melspec_features_008\n",
      "   saved slice 009 to  melspec_features_009\n",
      "   saved slice 010 to  melspec_features_010\n",
      "   saved slice 011 to  melspec_features_011\n",
      "   saved slice 012 to  melspec_features_012\n"
     ]
    }
   ],
   "source": [
    "from save_utils import save_numpy_array_sliced\n",
    "\n",
    "print(\"Feature array uses {s:.2f} MB of disc space\".format(s=features_spectogram.nbytes/1024/1024))\n",
    "\n",
    "save_numpy_array_sliced('melspec_features', features_spectogram, max_size_mb=45)"
   ]
  },
  {
   "cell_type": "markdown",
   "metadata": {},
   "source": [
    "### Load and validate\n",
    "Load the melspectogram features and plot an example"
   ]
  },
  {
   "cell_type": "code",
   "execution_count": 18,
   "metadata": {
    "collapsed": false,
    "pycharm": {
     "is_executing": true
    }
   },
   "outputs": [
    {
     "name": "stdout",
     "output_type": "stream",
     "text": [
      "Loaded 3 files:\n",
      "    melspec_features_001.npy\n",
      "    melspec_features_002.npy\n",
      "    melspec_features_003.npy\n"
     ]
    },
    {
     "name": "stderr",
     "output_type": "stream",
     "text": [
      "Traceback (most recent call last):\n",
      "  File \"_pydevd_bundle/pydevd_cython.pyx\", line 1134, in _pydevd_bundle.pydevd_cython.PyDBFrame.trace_dispatch\n",
      "  File \"_pydevd_bundle/pydevd_cython.pyx\", line 311, in _pydevd_bundle.pydevd_cython.PyDBFrame.do_wait_suspend\n",
      "  File \"/Users/mstuffer/.pyenv/versions/3.9.15/envs/ai-industry/lib/python3.9/site-packages/debugpy/_vendored/pydevd/pydevd.py\", line 2062, in do_wait_suspend\n",
      "    keep_suspended = self._do_wait_suspend(thread, frame, event, arg, suspend_type, from_this_thread, frames_tracker)\n",
      "  File \"/Users/mstuffer/.pyenv/versions/3.9.15/envs/ai-industry/lib/python3.9/site-packages/debugpy/_vendored/pydevd/pydevd.py\", line 2098, in _do_wait_suspend\n",
      "    time.sleep(0.01)\n",
      "KeyboardInterrupt\n"
     ]
    },
    {
     "ename": "KeyboardInterrupt",
     "evalue": "",
     "output_type": "error",
     "traceback": [
      "\u001b[0;31m---------------------------------------------------------------------------\u001b[0m",
      "\u001b[0;31mKeyboardInterrupt\u001b[0m                         Traceback (most recent call last)",
      "Cell \u001b[0;32mIn [18], line 10\u001b[0m\n\u001b[1;32m      6\u001b[0m x \u001b[39m=\u001b[39m randint(\u001b[39m0\u001b[39m, features_spectogram\u001b[39m.\u001b[39mshape[\u001b[39m0\u001b[39m]\u001b[39m-\u001b[39m\u001b[39m1\u001b[39m)\n\u001b[1;32m      8\u001b[0m feature_to_plot \u001b[39m=\u001b[39m features_spectogram[x, :]\u001b[39m.\u001b[39mreshape(n_mels, \u001b[39m-\u001b[39m\u001b[39m1\u001b[39m)\n\u001b[0;32m---> 10\u001b[0m plot\u001b[39m.\u001b[39mplot_melspectogram(feature_to_plot, sample_rate, fmax\u001b[39m=\u001b[39mf_max, calculate_db\u001b[39m=\u001b[39m\u001b[39mFalse\u001b[39;00m, save_fig\u001b[39m=\u001b[39m\u001b[39mFalse\u001b[39;00m)\n",
      "Cell \u001b[0;32mIn [18], line 10\u001b[0m\n\u001b[1;32m      6\u001b[0m x \u001b[39m=\u001b[39m randint(\u001b[39m0\u001b[39m, features_spectogram\u001b[39m.\u001b[39mshape[\u001b[39m0\u001b[39m]\u001b[39m-\u001b[39m\u001b[39m1\u001b[39m)\n\u001b[1;32m      8\u001b[0m feature_to_plot \u001b[39m=\u001b[39m features_spectogram[x, :]\u001b[39m.\u001b[39mreshape(n_mels, \u001b[39m-\u001b[39m\u001b[39m1\u001b[39m)\n\u001b[0;32m---> 10\u001b[0m plot\u001b[39m.\u001b[39mplot_melspectogram(feature_to_plot, sample_rate, fmax\u001b[39m=\u001b[39mf_max, calculate_db\u001b[39m=\u001b[39m\u001b[39mFalse\u001b[39;00m, save_fig\u001b[39m=\u001b[39m\u001b[39mFalse\u001b[39;00m)\n",
      "File \u001b[0;32m_pydevd_bundle/pydevd_cython.pyx:1443\u001b[0m, in \u001b[0;36m_pydevd_bundle.pydevd_cython.SafeCallWrapper.__call__\u001b[0;34m()\u001b[0m\n",
      "File \u001b[0;32m_pydevd_bundle/pydevd_cython.pyx:700\u001b[0m, in \u001b[0;36m_pydevd_bundle.pydevd_cython.PyDBFrame.trace_dispatch\u001b[0;34m()\u001b[0m\n",
      "File \u001b[0;32m_pydevd_bundle/pydevd_cython.pyx:1143\u001b[0m, in \u001b[0;36m_pydevd_bundle.pydevd_cython.PyDBFrame.trace_dispatch\u001b[0;34m()\u001b[0m\n",
      "File \u001b[0;32m_pydevd_bundle/pydevd_cython.pyx:1134\u001b[0m, in \u001b[0;36m_pydevd_bundle.pydevd_cython.PyDBFrame.trace_dispatch\u001b[0;34m()\u001b[0m\n",
      "File \u001b[0;32m_pydevd_bundle/pydevd_cython.pyx:311\u001b[0m, in \u001b[0;36m_pydevd_bundle.pydevd_cython.PyDBFrame.do_wait_suspend\u001b[0;34m()\u001b[0m\n",
      "File \u001b[0;32m~/.pyenv/versions/3.9.15/envs/ai-industry/lib/python3.9/site-packages/debugpy/_vendored/pydevd/pydevd.py:2062\u001b[0m, in \u001b[0;36mPyDB.do_wait_suspend\u001b[0;34m(self, thread, frame, event, arg, exception_type)\u001b[0m\n\u001b[1;32m   2059\u001b[0m             from_this_thread\u001b[39m.\u001b[39mappend(frame_custom_thread_id)\n\u001b[1;32m   2061\u001b[0m     \u001b[39mwith\u001b[39;00m \u001b[39mself\u001b[39m\u001b[39m.\u001b[39m_threads_suspended_single_notification\u001b[39m.\u001b[39mnotify_thread_suspended(thread_id, stop_reason):\n\u001b[0;32m-> 2062\u001b[0m         keep_suspended \u001b[39m=\u001b[39m \u001b[39mself\u001b[39;49m\u001b[39m.\u001b[39;49m_do_wait_suspend(thread, frame, event, arg, suspend_type, from_this_thread, frames_tracker)\n\u001b[1;32m   2064\u001b[0m frames_list \u001b[39m=\u001b[39m \u001b[39mNone\u001b[39;00m\n\u001b[1;32m   2066\u001b[0m \u001b[39mif\u001b[39;00m keep_suspended:\n\u001b[1;32m   2067\u001b[0m     \u001b[39m# This means that we should pause again after a set next statement.\u001b[39;00m\n",
      "File \u001b[0;32m~/.pyenv/versions/3.9.15/envs/ai-industry/lib/python3.9/site-packages/debugpy/_vendored/pydevd/pydevd.py:2098\u001b[0m, in \u001b[0;36mPyDB._do_wait_suspend\u001b[0;34m(self, thread, frame, event, arg, suspend_type, from_this_thread, frames_tracker)\u001b[0m\n\u001b[1;32m   2095\u001b[0m         \u001b[39mself\u001b[39m\u001b[39m.\u001b[39m_call_input_hook()\n\u001b[1;32m   2097\u001b[0m     \u001b[39mself\u001b[39m\u001b[39m.\u001b[39mprocess_internal_commands()\n\u001b[0;32m-> 2098\u001b[0m     time\u001b[39m.\u001b[39;49msleep(\u001b[39m0.01\u001b[39;49m)\n\u001b[1;32m   2100\u001b[0m \u001b[39mself\u001b[39m\u001b[39m.\u001b[39mcancel_async_evaluation(get_current_thread_id(thread), \u001b[39mstr\u001b[39m(\u001b[39mid\u001b[39m(frame)))\n\u001b[1;32m   2102\u001b[0m \u001b[39m# process any stepping instructions\u001b[39;00m\n",
      "\u001b[0;31mKeyboardInterrupt\u001b[0m: "
     ]
    }
   ],
   "source": [
    "from save_utils import load_sliced_numpy_array\n",
    "from random import randint\n",
    "\n",
    "features_spectogram = load_sliced_numpy_array('melspec_features')\n",
    "\n",
    "x = randint(0, features_spectogram.shape[0]-1)\n",
    "\n",
    "feature_to_plot = features_spectogram[x, :].reshape(n_mels, -1)\n",
    "\n",
    "plot.plot_melspectogram(feature_to_plot, sample_rate, fmax=f_max, calculate_db=False, save_fig=False)"
   ]
  }
 ],
 "metadata": {
  "kernelspec": {
   "display_name": "ai-industry",
   "language": "python",
   "name": "python3"
  },
  "language_info": {
   "codemirror_mode": {
    "name": "ipython",
    "version": 3
   },
   "file_extension": ".py",
   "mimetype": "text/x-python",
   "name": "python",
   "nbconvert_exporter": "python",
   "pygments_lexer": "ipython3",
   "version": "3.9.15"
  },
  "orig_nbformat": 4,
  "vscode": {
   "interpreter": {
    "hash": "ca8db3ad7877ac29be891f762e2f8f2bd0b14f50820e5ea7ad73e7636a7ffe5d"
   }
  }
 },
 "nbformat": 4,
 "nbformat_minor": 2
}
